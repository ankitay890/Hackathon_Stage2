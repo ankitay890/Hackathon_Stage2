{
 "cells": [
  {
   "cell_type": "code",
   "execution_count": 1,
   "id": "e2499e2a-bb8c-44de-a908-148a5b1f5f6e",
   "metadata": {},
   "outputs": [],
   "source": [
    "# import the libearies\n",
    "import pandas as pd\n",
    "import numpy as np"
   ]
  },
  {
   "cell_type": "code",
   "execution_count": 2,
   "id": "0d6156de-f42e-4f6a-8e45-1e16cbb2caca",
   "metadata": {},
   "outputs": [],
   "source": [
    "# 1) Identify the data to be used, the type of problem to be solved and the target variable of the problem.Create a dataframe based on the datafile provided."
   ]
  },
  {
   "cell_type": "code",
   "execution_count": 3,
   "id": "0c453ea4-ea74-4c9d-85c9-893219ac5635",
   "metadata": {},
   "outputs": [],
   "source": [
    "# Load the data\n",
    "test=pd.read_csv(r\"C:\\Users\\RBI\\Downloads\\iris_modified.csv\")"
   ]
  },
  {
   "cell_type": "code",
   "execution_count": 4,
   "id": "ee6a66a2-c58a-47c3-9ed7-f0af23a5666b",
   "metadata": {},
   "outputs": [
    {
     "data": {
      "text/html": [
       "<div>\n",
       "<style scoped>\n",
       "    .dataframe tbody tr th:only-of-type {\n",
       "        vertical-align: middle;\n",
       "    }\n",
       "\n",
       "    .dataframe tbody tr th {\n",
       "        vertical-align: top;\n",
       "    }\n",
       "\n",
       "    .dataframe thead th {\n",
       "        text-align: right;\n",
       "    }\n",
       "</style>\n",
       "<table border=\"1\" class=\"dataframe\">\n",
       "  <thead>\n",
       "    <tr style=\"text-align: right;\">\n",
       "      <th></th>\n",
       "      <th>sepal_length</th>\n",
       "      <th>sepal_width</th>\n",
       "      <th>petal_length</th>\n",
       "      <th>petal_width</th>\n",
       "      <th>species</th>\n",
       "    </tr>\n",
       "  </thead>\n",
       "  <tbody>\n",
       "    <tr>\n",
       "      <th>0</th>\n",
       "      <td>5.1</td>\n",
       "      <td>3.5</td>\n",
       "      <td>1.4</td>\n",
       "      <td>0.2</td>\n",
       "      <td>Iris-setosa</td>\n",
       "    </tr>\n",
       "    <tr>\n",
       "      <th>1</th>\n",
       "      <td>4.9</td>\n",
       "      <td>3.0</td>\n",
       "      <td>1.4</td>\n",
       "      <td>0.2</td>\n",
       "      <td>Iris-setosa</td>\n",
       "    </tr>\n",
       "    <tr>\n",
       "      <th>2</th>\n",
       "      <td>4.7</td>\n",
       "      <td>3.2</td>\n",
       "      <td>1.3</td>\n",
       "      <td>0.2</td>\n",
       "      <td>Iris-setosa</td>\n",
       "    </tr>\n",
       "    <tr>\n",
       "      <th>3</th>\n",
       "      <td>4.6</td>\n",
       "      <td>3.1</td>\n",
       "      <td>1.5</td>\n",
       "      <td>0.2</td>\n",
       "      <td>Iris-setosa</td>\n",
       "    </tr>\n",
       "    <tr>\n",
       "      <th>4</th>\n",
       "      <td>5.0</td>\n",
       "      <td>3.6</td>\n",
       "      <td>1.4</td>\n",
       "      <td>0.2</td>\n",
       "      <td>Iris-setosa</td>\n",
       "    </tr>\n",
       "  </tbody>\n",
       "</table>\n",
       "</div>"
      ],
      "text/plain": [
       "   sepal_length  sepal_width  petal_length  petal_width      species\n",
       "0           5.1          3.5           1.4          0.2  Iris-setosa\n",
       "1           4.9          3.0           1.4          0.2  Iris-setosa\n",
       "2           4.7          3.2           1.3          0.2  Iris-setosa\n",
       "3           4.6          3.1           1.5          0.2  Iris-setosa\n",
       "4           5.0          3.6           1.4          0.2  Iris-setosa"
      ]
     },
     "execution_count": 4,
     "metadata": {},
     "output_type": "execute_result"
    }
   ],
   "source": [
    "# display the data\n",
    "test.head()"
   ]
  },
  {
   "cell_type": "markdown",
   "id": "3738ef6e-dbce-4a11-ab03-658136d04753",
   "metadata": {},
   "source": [
    "# Feature Handeling"
   ]
  },
  {
   "cell_type": "code",
   "execution_count": 5,
   "id": "b291e997-3835-4e95-9a49-7533cc332914",
   "metadata": {},
   "outputs": [
    {
     "data": {
      "text/plain": [
       "(150, 5)"
      ]
     },
     "execution_count": 5,
     "metadata": {},
     "output_type": "execute_result"
    }
   ],
   "source": [
    "# check the shape \n",
    "test.shape"
   ]
  },
  {
   "cell_type": "code",
   "execution_count": 6,
   "id": "a5f702d7-1df2-4a14-bada-c0e21a91b947",
   "metadata": {},
   "outputs": [
    {
     "data": {
      "text/plain": [
       "sepal_length    0\n",
       "sepal_width     0\n",
       "petal_length    0\n",
       "petal_width     0\n",
       "species         0\n",
       "dtype: int64"
      ]
     },
     "execution_count": 6,
     "metadata": {},
     "output_type": "execute_result"
    }
   ],
   "source": [
    "# check for null values \n",
    "test.isnull().sum()"
   ]
  },
  {
   "cell_type": "markdown",
   "id": "05f6be24-c3b2-4f11-af30-2ead9cd5fa6f",
   "metadata": {},
   "source": [
    "There are no null values present in the dataset."
   ]
  },
  {
   "cell_type": "markdown",
   "id": "f52df543-57d2-4b57-8e34-4f8602a4610a",
   "metadata": {},
   "source": [
    "* This is a classification problem.\n",
    "* The target varibale is Species."
   ]
  },
  {
   "cell_type": "code",
   "execution_count": 7,
   "id": "3bbaffaa-4883-4baf-b4c4-c5142a3cb803",
   "metadata": {},
   "outputs": [],
   "source": [
    "# 2) Read the features (which are column names in the csv) where “is_selected”=True and create the X and the Y from the dataframe."
   ]
  },
  {
   "cell_type": "code",
   "execution_count": 8,
   "id": "fc08ad66-0794-482b-a925-1e6ed236e4f8",
   "metadata": {},
   "outputs": [
    {
     "data": {
      "text/plain": [
       "species\n",
       "Iris-setosa        50\n",
       "Iris-versicolor    50\n",
       "Iris-virginica     50\n",
       "Name: count, dtype: int64"
      ]
     },
     "execution_count": 8,
     "metadata": {},
     "output_type": "execute_result"
    }
   ],
   "source": [
    "test.species.value_counts()"
   ]
  },
  {
   "cell_type": "code",
   "execution_count": 9,
   "id": "782a41ab-5688-4704-9347-8d963c1c660d",
   "metadata": {},
   "outputs": [],
   "source": [
    "# convert species to numerical \n",
    "from sklearn.preprocessing import LabelEncoder\n",
    "le=LabelEncoder()\n",
    "test[\"species\"]=le.fit_transform(test['species'])"
   ]
  },
  {
   "cell_type": "markdown",
   "id": "5fcca8fe-cd94-494f-9b09-83e63a5dcf25",
   "metadata": {},
   "source": [
    "# Feature Generation"
   ]
  },
  {
   "cell_type": "code",
   "execution_count": 10,
   "id": "cbf55bb6-990e-45ff-bea7-aaeaefc0ac95",
   "metadata": {},
   "outputs": [],
   "source": [
    "# Split data into X & Y\n",
    "X = test.values[:,0:-1]\n",
    "Y = test.values[:,-1]"
   ]
  },
  {
   "cell_type": "code",
   "execution_count": 11,
   "id": "fab516f9-f81f-45bf-a432-13601a5bd412",
   "metadata": {},
   "outputs": [
    {
     "name": "stdout",
     "output_type": "stream",
     "text": [
      "(150, 4)\n",
      "(150,)\n"
     ]
    }
   ],
   "source": [
    "print(X.shape)\n",
    "print(Y.shape)"
   ]
  },
  {
   "cell_type": "code",
   "execution_count": 12,
   "id": "6770f3ff-0729-4612-a713-7aa5c7702e3b",
   "metadata": {},
   "outputs": [],
   "source": [
    "# 3) Split the data into training and validation sets based on the given split ratio and the random seed value."
   ]
  },
  {
   "cell_type": "code",
   "execution_count": 13,
   "id": "c387132a-c4c4-46ba-978c-b5769726eda2",
   "metadata": {},
   "outputs": [],
   "source": [
    "# Split the data into test and train \n",
    "from sklearn.model_selection import train_test_split\n",
    "X_train, X_test, Y_train, Y_test = train_test_split(X, Y, train_size=0.8, random_state=10)"
   ]
  },
  {
   "cell_type": "code",
   "execution_count": 14,
   "id": "8dd90b5e-b6cf-442c-a22b-db0aaa097eab",
   "metadata": {},
   "outputs": [
    {
     "name": "stdout",
     "output_type": "stream",
     "text": [
      "(120, 4)\n",
      "(30, 4)\n"
     ]
    }
   ],
   "source": [
    "print(X_train.shape)\n",
    "print(X_test.shape)"
   ]
  },
  {
   "cell_type": "code",
   "execution_count": 15,
   "id": "95621e9c-355a-48bd-a166-393bea8f5c56",
   "metadata": {},
   "outputs": [],
   "source": [
    "# 4) Parse the Json and identify the model where the algorithm “is_selected”=True. Identify the hyperparameters to be used to build those models.Build the selected models and perform hyperparameter tuning using GridSearchCV."
   ]
  },
  {
   "cell_type": "markdown",
   "id": "938ff7f2-5ae6-4748-9ef1-f10dc46f2d23",
   "metadata": {},
   "source": [
    "# Model Building"
   ]
  },
  {
   "cell_type": "markdown",
   "id": "c01938fb-a69e-4e30-a419-bbebc0dc3a38",
   "metadata": {},
   "source": [
    "## 1. Random Forest"
   ]
  },
  {
   "cell_type": "code",
   "execution_count": 21,
   "id": "f7c32177-15e6-4254-b27a-1a6a545bee54",
   "metadata": {},
   "outputs": [],
   "source": [
    "from sklearn.model_selection import GridSearchCV\n",
    "from sklearn.ensemble import RandomForestClassifier\n"
   ]
  },
  {
   "cell_type": "code",
   "execution_count": 22,
   "id": "2acbfc69-63d2-472c-9140-af73c70b9e10",
   "metadata": {},
   "outputs": [],
   "source": [
    "rf=RandomForestClassifier(random_state=50)"
   ]
  },
  {
   "cell_type": "code",
   "execution_count": 23,
   "id": "fac7b900-9dbe-4fc3-9927-03d151ce6a7c",
   "metadata": {},
   "outputs": [],
   "source": [
    "param_grid = {\n",
    "    'n_estimators':list(range(10,31)),\n",
    "    'max_depth':list(range(20,31)),\n",
    "    'min_samples_leaf':list(range(5,51)),\n",
    "    'n_jobs': [None]\n",
    "}\n"
   ]
  },
  {
   "cell_type": "code",
   "execution_count": 24,
   "id": "6442166a-2cea-44e2-88d9-4fbe9b57f77d",
   "metadata": {},
   "outputs": [
    {
     "name": "stderr",
     "output_type": "stream",
     "text": [
      "\n",
      "KeyboardInterrupt\n",
      "\n"
     ]
    }
   ],
   "source": [
    "CV_rf = GridSearchCV(estimator=rf, param_grid=param_grid, cv=2)\n",
    "CV_rf.fit(X_train,Y_train)"
   ]
  },
  {
   "cell_type": "code",
   "execution_count": null,
   "id": "68e5741b-6772-402b-a5d8-847f5b83abe6",
   "metadata": {},
   "outputs": [],
   "source": [
    "CV_rf.best_params_"
   ]
  },
  {
   "cell_type": "markdown",
   "id": "041469fe-c8b7-4115-ae06-3b3106ac3166",
   "metadata": {},
   "source": [
    "#### Model building using Grid search after parsing hyperparams."
   ]
  },
  {
   "cell_type": "code",
   "execution_count": null,
   "id": "587a1585-3ca3-4ee0-8835-b03831c2643b",
   "metadata": {},
   "outputs": [],
   "source": [
    "model_RF=RandomForestClassifier(random_state=42, max_depth=20, min_samples_leaf=7, n_estimators=10)\n",
    "model_RF.fit(X_train, Y_train)"
   ]
  },
  {
   "cell_type": "code",
   "execution_count": null,
   "id": "b9bfabc4-3e34-4171-a996-e9075111c90b",
   "metadata": {},
   "outputs": [],
   "source": [
    "model_RF.fit(X_train, Y_train)"
   ]
  },
  {
   "cell_type": "code",
   "execution_count": null,
   "id": "dca7cc4a-27e1-47c2-bc4c-8658dcc96277",
   "metadata": {},
   "outputs": [],
   "source": [
    "pred=model_RF.predict(X_test)"
   ]
  },
  {
   "cell_type": "code",
   "execution_count": null,
   "id": "bddbd7ca-fddb-4e17-8ed8-32856f94bdde",
   "metadata": {},
   "outputs": [],
   "source": [
    "model_RF=RandomForestClassifier(random_state=100, n_estimators=10, max_depth=20,min_samples_leaf=7)"
   ]
  },
  {
   "cell_type": "code",
   "execution_count": null,
   "id": "cfbce000-0581-4dc8-ac24-939de436799e",
   "metadata": {},
   "outputs": [],
   "source": [
    "model_RF.fit(X_train,Y_train)\n",
    "pred=model_RF.predict(X_test)"
   ]
  },
  {
   "cell_type": "code",
   "execution_count": null,
   "id": "1105419f-d55f-40f0-afd3-ac76625cd048",
   "metadata": {},
   "outputs": [],
   "source": [
    "from sklearn.metrics import confusion_matrix,accuracy_score,classification_report\n",
    "cfm=confusion_matrix(Y_test,pred)\n",
    "print(cfm)\n",
    "\n",
    "print(\"Classification report: \")\n",
    "print(classification_report(Y_test,pred))\n"
   ]
  },
  {
   "cell_type": "markdown",
   "id": "df9b4e91-3d2c-4d21-9ac4-2f66393bfef6",
   "metadata": {},
   "source": [
    "The accuracy obtain by Random Forest is 93%."
   ]
  },
  {
   "cell_type": "markdown",
   "id": "4a7837f4-caf8-4192-b88e-5b1a66d1a155",
   "metadata": {},
   "source": [
    "## 2. Descision Tree Classifier"
   ]
  },
  {
   "cell_type": "code",
   "execution_count": 56,
   "id": "d7d217b1-8e4e-4bdc-8133-96eb3fa0a33a",
   "metadata": {},
   "outputs": [],
   "source": [
    "from sklearn.tree import DecisionTreeClassifier"
   ]
  },
  {
   "cell_type": "code",
   "execution_count": 57,
   "id": "8154729e-d695-434d-b1fc-a5922c89b0f0",
   "metadata": {},
   "outputs": [
    {
     "data": {
      "text/html": [
       "<style>#sk-container-id-9 {color: black;background-color: white;}#sk-container-id-9 pre{padding: 0;}#sk-container-id-9 div.sk-toggleable {background-color: white;}#sk-container-id-9 label.sk-toggleable__label {cursor: pointer;display: block;width: 100%;margin-bottom: 0;padding: 0.3em;box-sizing: border-box;text-align: center;}#sk-container-id-9 label.sk-toggleable__label-arrow:before {content: \"▸\";float: left;margin-right: 0.25em;color: #696969;}#sk-container-id-9 label.sk-toggleable__label-arrow:hover:before {color: black;}#sk-container-id-9 div.sk-estimator:hover label.sk-toggleable__label-arrow:before {color: black;}#sk-container-id-9 div.sk-toggleable__content {max-height: 0;max-width: 0;overflow: hidden;text-align: left;background-color: #f0f8ff;}#sk-container-id-9 div.sk-toggleable__content pre {margin: 0.2em;color: black;border-radius: 0.25em;background-color: #f0f8ff;}#sk-container-id-9 input.sk-toggleable__control:checked~div.sk-toggleable__content {max-height: 200px;max-width: 100%;overflow: auto;}#sk-container-id-9 input.sk-toggleable__control:checked~label.sk-toggleable__label-arrow:before {content: \"▾\";}#sk-container-id-9 div.sk-estimator input.sk-toggleable__control:checked~label.sk-toggleable__label {background-color: #d4ebff;}#sk-container-id-9 div.sk-label input.sk-toggleable__control:checked~label.sk-toggleable__label {background-color: #d4ebff;}#sk-container-id-9 input.sk-hidden--visually {border: 0;clip: rect(1px 1px 1px 1px);clip: rect(1px, 1px, 1px, 1px);height: 1px;margin: -1px;overflow: hidden;padding: 0;position: absolute;width: 1px;}#sk-container-id-9 div.sk-estimator {font-family: monospace;background-color: #f0f8ff;border: 1px dotted black;border-radius: 0.25em;box-sizing: border-box;margin-bottom: 0.5em;}#sk-container-id-9 div.sk-estimator:hover {background-color: #d4ebff;}#sk-container-id-9 div.sk-parallel-item::after {content: \"\";width: 100%;border-bottom: 1px solid gray;flex-grow: 1;}#sk-container-id-9 div.sk-label:hover label.sk-toggleable__label {background-color: #d4ebff;}#sk-container-id-9 div.sk-serial::before {content: \"\";position: absolute;border-left: 1px solid gray;box-sizing: border-box;top: 0;bottom: 0;left: 50%;z-index: 0;}#sk-container-id-9 div.sk-serial {display: flex;flex-direction: column;align-items: center;background-color: white;padding-right: 0.2em;padding-left: 0.2em;position: relative;}#sk-container-id-9 div.sk-item {position: relative;z-index: 1;}#sk-container-id-9 div.sk-parallel {display: flex;align-items: stretch;justify-content: center;background-color: white;position: relative;}#sk-container-id-9 div.sk-item::before, #sk-container-id-9 div.sk-parallel-item::before {content: \"\";position: absolute;border-left: 1px solid gray;box-sizing: border-box;top: 0;bottom: 0;left: 50%;z-index: -1;}#sk-container-id-9 div.sk-parallel-item {display: flex;flex-direction: column;z-index: 1;position: relative;background-color: white;}#sk-container-id-9 div.sk-parallel-item:first-child::after {align-self: flex-end;width: 50%;}#sk-container-id-9 div.sk-parallel-item:last-child::after {align-self: flex-start;width: 50%;}#sk-container-id-9 div.sk-parallel-item:only-child::after {width: 0;}#sk-container-id-9 div.sk-dashed-wrapped {border: 1px dashed gray;margin: 0 0.4em 0.5em 0.4em;box-sizing: border-box;padding-bottom: 0.4em;background-color: white;}#sk-container-id-9 div.sk-label label {font-family: monospace;font-weight: bold;display: inline-block;line-height: 1.2em;}#sk-container-id-9 div.sk-label-container {text-align: center;}#sk-container-id-9 div.sk-container {/* jupyter's `normalize.less` sets `[hidden] { display: none; }` but bootstrap.min.css set `[hidden] { display: none !important; }` so we also need the `!important` here to be able to override the default hidden behavior on the sphinx rendered scikit-learn.org. See: https://github.com/scikit-learn/scikit-learn/issues/21755 */display: inline-block !important;position: relative;}#sk-container-id-9 div.sk-text-repr-fallback {display: none;}</style><div id=\"sk-container-id-9\" class=\"sk-top-container\"><div class=\"sk-text-repr-fallback\"><pre>GridSearchCV(cv=5, estimator=DecisionTreeClassifier(random_state=10),\n",
       "             param_grid={&#x27;criterion&#x27;: [&#x27;entropy&#x27;], &#x27;max_depth&#x27;: [4, 5, 6, 7],\n",
       "                         &#x27;min_samples_leaf&#x27;: [12, 6], &#x27;splitter&#x27;: [&#x27;best&#x27;]})</pre><b>In a Jupyter environment, please rerun this cell to show the HTML representation or trust the notebook. <br />On GitHub, the HTML representation is unable to render, please try loading this page with nbviewer.org.</b></div><div class=\"sk-container\" hidden><div class=\"sk-item sk-dashed-wrapped\"><div class=\"sk-label-container\"><div class=\"sk-label sk-toggleable\"><input class=\"sk-toggleable__control sk-hidden--visually\" id=\"sk-estimator-id-17\" type=\"checkbox\" ><label for=\"sk-estimator-id-17\" class=\"sk-toggleable__label sk-toggleable__label-arrow\">GridSearchCV</label><div class=\"sk-toggleable__content\"><pre>GridSearchCV(cv=5, estimator=DecisionTreeClassifier(random_state=10),\n",
       "             param_grid={&#x27;criterion&#x27;: [&#x27;entropy&#x27;], &#x27;max_depth&#x27;: [4, 5, 6, 7],\n",
       "                         &#x27;min_samples_leaf&#x27;: [12, 6], &#x27;splitter&#x27;: [&#x27;best&#x27;]})</pre></div></div></div><div class=\"sk-parallel\"><div class=\"sk-parallel-item\"><div class=\"sk-item\"><div class=\"sk-label-container\"><div class=\"sk-label sk-toggleable\"><input class=\"sk-toggleable__control sk-hidden--visually\" id=\"sk-estimator-id-18\" type=\"checkbox\" ><label for=\"sk-estimator-id-18\" class=\"sk-toggleable__label sk-toggleable__label-arrow\">estimator: DecisionTreeClassifier</label><div class=\"sk-toggleable__content\"><pre>DecisionTreeClassifier(random_state=10)</pre></div></div></div><div class=\"sk-serial\"><div class=\"sk-item\"><div class=\"sk-estimator sk-toggleable\"><input class=\"sk-toggleable__control sk-hidden--visually\" id=\"sk-estimator-id-19\" type=\"checkbox\" ><label for=\"sk-estimator-id-19\" class=\"sk-toggleable__label sk-toggleable__label-arrow\">DecisionTreeClassifier</label><div class=\"sk-toggleable__content\"><pre>DecisionTreeClassifier(random_state=10)</pre></div></div></div></div></div></div></div></div></div></div>"
      ],
      "text/plain": [
       "GridSearchCV(cv=5, estimator=DecisionTreeClassifier(random_state=10),\n",
       "             param_grid={'criterion': ['entropy'], 'max_depth': [4, 5, 6, 7],\n",
       "                         'min_samples_leaf': [12, 6], 'splitter': ['best']})"
      ]
     },
     "execution_count": 57,
     "metadata": {},
     "output_type": "execute_result"
    }
   ],
   "source": [
    "param_grid = {'max_depth':[4,5,6,7],\n",
    "              'min_samples_leaf':[12,6],\n",
    "              'criterion':[\"entropy\"],\n",
    "              'splitter': [\"best\"]\n",
    "             }\n",
    "model_DT = DecisionTreeClassifier(random_state=10)\n",
    "grid_search = GridSearchCV(estimator=model_DT, param_grid=param_grid, cv=5)\n",
    "grid_search.fit(X_train,Y_train)"
   ]
  },
  {
   "cell_type": "code",
   "execution_count": 58,
   "id": "49af1cb1-1a32-4308-9afd-6934094161dc",
   "metadata": {},
   "outputs": [
    {
     "data": {
      "text/html": [
       "<style>#sk-container-id-10 {color: black;background-color: white;}#sk-container-id-10 pre{padding: 0;}#sk-container-id-10 div.sk-toggleable {background-color: white;}#sk-container-id-10 label.sk-toggleable__label {cursor: pointer;display: block;width: 100%;margin-bottom: 0;padding: 0.3em;box-sizing: border-box;text-align: center;}#sk-container-id-10 label.sk-toggleable__label-arrow:before {content: \"▸\";float: left;margin-right: 0.25em;color: #696969;}#sk-container-id-10 label.sk-toggleable__label-arrow:hover:before {color: black;}#sk-container-id-10 div.sk-estimator:hover label.sk-toggleable__label-arrow:before {color: black;}#sk-container-id-10 div.sk-toggleable__content {max-height: 0;max-width: 0;overflow: hidden;text-align: left;background-color: #f0f8ff;}#sk-container-id-10 div.sk-toggleable__content pre {margin: 0.2em;color: black;border-radius: 0.25em;background-color: #f0f8ff;}#sk-container-id-10 input.sk-toggleable__control:checked~div.sk-toggleable__content {max-height: 200px;max-width: 100%;overflow: auto;}#sk-container-id-10 input.sk-toggleable__control:checked~label.sk-toggleable__label-arrow:before {content: \"▾\";}#sk-container-id-10 div.sk-estimator input.sk-toggleable__control:checked~label.sk-toggleable__label {background-color: #d4ebff;}#sk-container-id-10 div.sk-label input.sk-toggleable__control:checked~label.sk-toggleable__label {background-color: #d4ebff;}#sk-container-id-10 input.sk-hidden--visually {border: 0;clip: rect(1px 1px 1px 1px);clip: rect(1px, 1px, 1px, 1px);height: 1px;margin: -1px;overflow: hidden;padding: 0;position: absolute;width: 1px;}#sk-container-id-10 div.sk-estimator {font-family: monospace;background-color: #f0f8ff;border: 1px dotted black;border-radius: 0.25em;box-sizing: border-box;margin-bottom: 0.5em;}#sk-container-id-10 div.sk-estimator:hover {background-color: #d4ebff;}#sk-container-id-10 div.sk-parallel-item::after {content: \"\";width: 100%;border-bottom: 1px solid gray;flex-grow: 1;}#sk-container-id-10 div.sk-label:hover label.sk-toggleable__label {background-color: #d4ebff;}#sk-container-id-10 div.sk-serial::before {content: \"\";position: absolute;border-left: 1px solid gray;box-sizing: border-box;top: 0;bottom: 0;left: 50%;z-index: 0;}#sk-container-id-10 div.sk-serial {display: flex;flex-direction: column;align-items: center;background-color: white;padding-right: 0.2em;padding-left: 0.2em;position: relative;}#sk-container-id-10 div.sk-item {position: relative;z-index: 1;}#sk-container-id-10 div.sk-parallel {display: flex;align-items: stretch;justify-content: center;background-color: white;position: relative;}#sk-container-id-10 div.sk-item::before, #sk-container-id-10 div.sk-parallel-item::before {content: \"\";position: absolute;border-left: 1px solid gray;box-sizing: border-box;top: 0;bottom: 0;left: 50%;z-index: -1;}#sk-container-id-10 div.sk-parallel-item {display: flex;flex-direction: column;z-index: 1;position: relative;background-color: white;}#sk-container-id-10 div.sk-parallel-item:first-child::after {align-self: flex-end;width: 50%;}#sk-container-id-10 div.sk-parallel-item:last-child::after {align-self: flex-start;width: 50%;}#sk-container-id-10 div.sk-parallel-item:only-child::after {width: 0;}#sk-container-id-10 div.sk-dashed-wrapped {border: 1px dashed gray;margin: 0 0.4em 0.5em 0.4em;box-sizing: border-box;padding-bottom: 0.4em;background-color: white;}#sk-container-id-10 div.sk-label label {font-family: monospace;font-weight: bold;display: inline-block;line-height: 1.2em;}#sk-container-id-10 div.sk-label-container {text-align: center;}#sk-container-id-10 div.sk-container {/* jupyter's `normalize.less` sets `[hidden] { display: none; }` but bootstrap.min.css set `[hidden] { display: none !important; }` so we also need the `!important` here to be able to override the default hidden behavior on the sphinx rendered scikit-learn.org. See: https://github.com/scikit-learn/scikit-learn/issues/21755 */display: inline-block !important;position: relative;}#sk-container-id-10 div.sk-text-repr-fallback {display: none;}</style><div id=\"sk-container-id-10\" class=\"sk-top-container\"><div class=\"sk-text-repr-fallback\"><pre>DecisionTreeClassifier(criterion=&#x27;entropy&#x27;, max_depth=4, min_samples_leaf=12,\n",
       "                       random_state=10)</pre><b>In a Jupyter environment, please rerun this cell to show the HTML representation or trust the notebook. <br />On GitHub, the HTML representation is unable to render, please try loading this page with nbviewer.org.</b></div><div class=\"sk-container\" hidden><div class=\"sk-item\"><div class=\"sk-estimator sk-toggleable\"><input class=\"sk-toggleable__control sk-hidden--visually\" id=\"sk-estimator-id-20\" type=\"checkbox\" checked><label for=\"sk-estimator-id-20\" class=\"sk-toggleable__label sk-toggleable__label-arrow\">DecisionTreeClassifier</label><div class=\"sk-toggleable__content\"><pre>DecisionTreeClassifier(criterion=&#x27;entropy&#x27;, max_depth=4, min_samples_leaf=12,\n",
       "                       random_state=10)</pre></div></div></div></div></div>"
      ],
      "text/plain": [
       "DecisionTreeClassifier(criterion='entropy', max_depth=4, min_samples_leaf=12,\n",
       "                       random_state=10)"
      ]
     },
     "execution_count": 58,
     "metadata": {},
     "output_type": "execute_result"
    }
   ],
   "source": [
    "final_model = grid_search.best_estimator_\n",
    "final_model"
   ]
  },
  {
   "cell_type": "markdown",
   "id": "95d6179f-2377-41ca-b67d-96d301355cca",
   "metadata": {},
   "source": [
    "#### Model building using Grid search after parsing hyperparams."
   ]
  },
  {
   "cell_type": "code",
   "execution_count": 59,
   "id": "801e7c28-3f98-43dd-9abc-42b3f8e4e9c9",
   "metadata": {},
   "outputs": [],
   "source": [
    "\n",
    "model_DT = DecisionTreeClassifier(criterion='entropy', max_depth=4, min_samples_leaf=12,\n",
    "                       splitter='best')\n",
    "model_DT.fit(X_train, Y_train)\n",
    "y_pred = model_DT.predict(X_test)"
   ]
  },
  {
   "cell_type": "code",
   "execution_count": 61,
   "id": "e82270db-6955-4b53-8209-97cd47918bf5",
   "metadata": {},
   "outputs": [
    {
     "name": "stdout",
     "output_type": "stream",
     "text": [
      "[[10  0  0]\n",
      " [ 0 11  2]\n",
      " [ 0  0  7]]\n",
      "Classification report: \n",
      "              precision    recall  f1-score   support\n",
      "\n",
      "         0.0       1.00      1.00      1.00        10\n",
      "         1.0       1.00      0.85      0.92        13\n",
      "         2.0       0.78      1.00      0.88         7\n",
      "\n",
      "    accuracy                           0.93        30\n",
      "   macro avg       0.93      0.95      0.93        30\n",
      "weighted avg       0.95      0.93      0.93        30\n",
      "\n"
     ]
    }
   ],
   "source": [
    "from sklearn.metrics import confusion_matrix,classification_report\n",
    " \n",
    "cfm=confusion_matrix(Y_test,y_pred)\n",
    "print(cfm)\n",
    "\n",
    "print(\"Classification report: \") \n",
    "print(classification_report(Y_test,y_pred))"
   ]
  },
  {
   "cell_type": "markdown",
   "id": "02420fc2-1f71-41e3-9212-4cb30c66a373",
   "metadata": {},
   "source": [
    "The accuracy obtain by Descision Tree is 93%."
   ]
  },
  {
   "cell_type": "markdown",
   "id": "e62846bc-d31e-4d5b-a070-d2e3565ab3de",
   "metadata": {},
   "source": [
    "## 3. Logistic Regression"
   ]
  },
  {
   "cell_type": "code",
   "execution_count": 44,
   "id": "3fc8b6f8-066d-4451-bf92-145bf52c9ad6",
   "metadata": {},
   "outputs": [],
   "source": [
    "from sklearn.linear_model import LogisticRegression"
   ]
  },
  {
   "cell_type": "code",
   "execution_count": 48,
   "id": "b50aadce-e68e-48ec-a8a2-e09b4bee8ae3",
   "metadata": {},
   "outputs": [],
   "source": [
    "\n",
    "param_grid = {\n",
    "    'max_iter':list(range(30,51)), \n",
    "    'C': [0.5, 0.6, 0.7, 0.8],\n",
    "    'l1_ratio': [0.5, 0.6, 0.7, 0.8],  # Range of l1_ratio values\n",
    "    'penalty': ['elasticnet'],  # Using elastic net penalty\n",
    "    'solver': ['saga']\n",
    "}"
   ]
  },
  {
   "cell_type": "code",
   "execution_count": 49,
   "id": "c563b835-cc0e-4af3-ae2f-32c332349749",
   "metadata": {},
   "outputs": [
    {
     "name": "stderr",
     "output_type": "stream",
     "text": [
      "C:\\Users\\RBI\\ana3\\Lib\\site-packages\\sklearn\\linear_model\\_sag.py:350: ConvergenceWarning: The max_iter was reached which means the coef_ did not converge\n",
      "  warnings.warn(\n"
     ]
    },
    {
     "data": {
      "text/html": [
       "<style>#sk-container-id-7 {color: black;background-color: white;}#sk-container-id-7 pre{padding: 0;}#sk-container-id-7 div.sk-toggleable {background-color: white;}#sk-container-id-7 label.sk-toggleable__label {cursor: pointer;display: block;width: 100%;margin-bottom: 0;padding: 0.3em;box-sizing: border-box;text-align: center;}#sk-container-id-7 label.sk-toggleable__label-arrow:before {content: \"▸\";float: left;margin-right: 0.25em;color: #696969;}#sk-container-id-7 label.sk-toggleable__label-arrow:hover:before {color: black;}#sk-container-id-7 div.sk-estimator:hover label.sk-toggleable__label-arrow:before {color: black;}#sk-container-id-7 div.sk-toggleable__content {max-height: 0;max-width: 0;overflow: hidden;text-align: left;background-color: #f0f8ff;}#sk-container-id-7 div.sk-toggleable__content pre {margin: 0.2em;color: black;border-radius: 0.25em;background-color: #f0f8ff;}#sk-container-id-7 input.sk-toggleable__control:checked~div.sk-toggleable__content {max-height: 200px;max-width: 100%;overflow: auto;}#sk-container-id-7 input.sk-toggleable__control:checked~label.sk-toggleable__label-arrow:before {content: \"▾\";}#sk-container-id-7 div.sk-estimator input.sk-toggleable__control:checked~label.sk-toggleable__label {background-color: #d4ebff;}#sk-container-id-7 div.sk-label input.sk-toggleable__control:checked~label.sk-toggleable__label {background-color: #d4ebff;}#sk-container-id-7 input.sk-hidden--visually {border: 0;clip: rect(1px 1px 1px 1px);clip: rect(1px, 1px, 1px, 1px);height: 1px;margin: -1px;overflow: hidden;padding: 0;position: absolute;width: 1px;}#sk-container-id-7 div.sk-estimator {font-family: monospace;background-color: #f0f8ff;border: 1px dotted black;border-radius: 0.25em;box-sizing: border-box;margin-bottom: 0.5em;}#sk-container-id-7 div.sk-estimator:hover {background-color: #d4ebff;}#sk-container-id-7 div.sk-parallel-item::after {content: \"\";width: 100%;border-bottom: 1px solid gray;flex-grow: 1;}#sk-container-id-7 div.sk-label:hover label.sk-toggleable__label {background-color: #d4ebff;}#sk-container-id-7 div.sk-serial::before {content: \"\";position: absolute;border-left: 1px solid gray;box-sizing: border-box;top: 0;bottom: 0;left: 50%;z-index: 0;}#sk-container-id-7 div.sk-serial {display: flex;flex-direction: column;align-items: center;background-color: white;padding-right: 0.2em;padding-left: 0.2em;position: relative;}#sk-container-id-7 div.sk-item {position: relative;z-index: 1;}#sk-container-id-7 div.sk-parallel {display: flex;align-items: stretch;justify-content: center;background-color: white;position: relative;}#sk-container-id-7 div.sk-item::before, #sk-container-id-7 div.sk-parallel-item::before {content: \"\";position: absolute;border-left: 1px solid gray;box-sizing: border-box;top: 0;bottom: 0;left: 50%;z-index: -1;}#sk-container-id-7 div.sk-parallel-item {display: flex;flex-direction: column;z-index: 1;position: relative;background-color: white;}#sk-container-id-7 div.sk-parallel-item:first-child::after {align-self: flex-end;width: 50%;}#sk-container-id-7 div.sk-parallel-item:last-child::after {align-self: flex-start;width: 50%;}#sk-container-id-7 div.sk-parallel-item:only-child::after {width: 0;}#sk-container-id-7 div.sk-dashed-wrapped {border: 1px dashed gray;margin: 0 0.4em 0.5em 0.4em;box-sizing: border-box;padding-bottom: 0.4em;background-color: white;}#sk-container-id-7 div.sk-label label {font-family: monospace;font-weight: bold;display: inline-block;line-height: 1.2em;}#sk-container-id-7 div.sk-label-container {text-align: center;}#sk-container-id-7 div.sk-container {/* jupyter's `normalize.less` sets `[hidden] { display: none; }` but bootstrap.min.css set `[hidden] { display: none !important; }` so we also need the `!important` here to be able to override the default hidden behavior on the sphinx rendered scikit-learn.org. See: https://github.com/scikit-learn/scikit-learn/issues/21755 */display: inline-block !important;position: relative;}#sk-container-id-7 div.sk-text-repr-fallback {display: none;}</style><div id=\"sk-container-id-7\" class=\"sk-top-container\"><div class=\"sk-text-repr-fallback\"><pre>GridSearchCV(cv=5, estimator=LogisticRegression(random_state=10), n_jobs=2,\n",
       "             param_grid={&#x27;C&#x27;: [0.5, 0.6, 0.7, 0.8],\n",
       "                         &#x27;l1_ratio&#x27;: [0.5, 0.6, 0.7, 0.8],\n",
       "                         &#x27;max_iter&#x27;: [30, 31, 32, 33, 34, 35, 36, 37, 38, 39,\n",
       "                                      40, 41, 42, 43, 44, 45, 46, 47, 48, 49,\n",
       "                                      50],\n",
       "                         &#x27;penalty&#x27;: [&#x27;elasticnet&#x27;], &#x27;solver&#x27;: [&#x27;saga&#x27;]})</pre><b>In a Jupyter environment, please rerun this cell to show the HTML representation or trust the notebook. <br />On GitHub, the HTML representation is unable to render, please try loading this page with nbviewer.org.</b></div><div class=\"sk-container\" hidden><div class=\"sk-item sk-dashed-wrapped\"><div class=\"sk-label-container\"><div class=\"sk-label sk-toggleable\"><input class=\"sk-toggleable__control sk-hidden--visually\" id=\"sk-estimator-id-13\" type=\"checkbox\" ><label for=\"sk-estimator-id-13\" class=\"sk-toggleable__label sk-toggleable__label-arrow\">GridSearchCV</label><div class=\"sk-toggleable__content\"><pre>GridSearchCV(cv=5, estimator=LogisticRegression(random_state=10), n_jobs=2,\n",
       "             param_grid={&#x27;C&#x27;: [0.5, 0.6, 0.7, 0.8],\n",
       "                         &#x27;l1_ratio&#x27;: [0.5, 0.6, 0.7, 0.8],\n",
       "                         &#x27;max_iter&#x27;: [30, 31, 32, 33, 34, 35, 36, 37, 38, 39,\n",
       "                                      40, 41, 42, 43, 44, 45, 46, 47, 48, 49,\n",
       "                                      50],\n",
       "                         &#x27;penalty&#x27;: [&#x27;elasticnet&#x27;], &#x27;solver&#x27;: [&#x27;saga&#x27;]})</pre></div></div></div><div class=\"sk-parallel\"><div class=\"sk-parallel-item\"><div class=\"sk-item\"><div class=\"sk-label-container\"><div class=\"sk-label sk-toggleable\"><input class=\"sk-toggleable__control sk-hidden--visually\" id=\"sk-estimator-id-14\" type=\"checkbox\" ><label for=\"sk-estimator-id-14\" class=\"sk-toggleable__label sk-toggleable__label-arrow\">estimator: LogisticRegression</label><div class=\"sk-toggleable__content\"><pre>LogisticRegression(random_state=10)</pre></div></div></div><div class=\"sk-serial\"><div class=\"sk-item\"><div class=\"sk-estimator sk-toggleable\"><input class=\"sk-toggleable__control sk-hidden--visually\" id=\"sk-estimator-id-15\" type=\"checkbox\" ><label for=\"sk-estimator-id-15\" class=\"sk-toggleable__label sk-toggleable__label-arrow\">LogisticRegression</label><div class=\"sk-toggleable__content\"><pre>LogisticRegression(random_state=10)</pre></div></div></div></div></div></div></div></div></div></div>"
      ],
      "text/plain": [
       "GridSearchCV(cv=5, estimator=LogisticRegression(random_state=10), n_jobs=2,\n",
       "             param_grid={'C': [0.5, 0.6, 0.7, 0.8],\n",
       "                         'l1_ratio': [0.5, 0.6, 0.7, 0.8],\n",
       "                         'max_iter': [30, 31, 32, 33, 34, 35, 36, 37, 38, 39,\n",
       "                                      40, 41, 42, 43, 44, 45, 46, 47, 48, 49,\n",
       "                                      50],\n",
       "                         'penalty': ['elasticnet'], 'solver': ['saga']})"
      ]
     },
     "execution_count": 49,
     "metadata": {},
     "output_type": "execute_result"
    }
   ],
   "source": [
    "model_LR = LogisticRegression(random_state=10)\n",
    "gs = GridSearchCV(estimator=model_LR, param_grid=param_grid, cv=5, n_jobs=2)\n",
    "gs.fit(X_train,Y_train)"
   ]
  },
  {
   "cell_type": "code",
   "execution_count": 50,
   "id": "4a90bd9b-7ebe-49b9-b8e3-8a085954e81d",
   "metadata": {},
   "outputs": [
    {
     "data": {
      "text/html": [
       "<style>#sk-container-id-8 {color: black;background-color: white;}#sk-container-id-8 pre{padding: 0;}#sk-container-id-8 div.sk-toggleable {background-color: white;}#sk-container-id-8 label.sk-toggleable__label {cursor: pointer;display: block;width: 100%;margin-bottom: 0;padding: 0.3em;box-sizing: border-box;text-align: center;}#sk-container-id-8 label.sk-toggleable__label-arrow:before {content: \"▸\";float: left;margin-right: 0.25em;color: #696969;}#sk-container-id-8 label.sk-toggleable__label-arrow:hover:before {color: black;}#sk-container-id-8 div.sk-estimator:hover label.sk-toggleable__label-arrow:before {color: black;}#sk-container-id-8 div.sk-toggleable__content {max-height: 0;max-width: 0;overflow: hidden;text-align: left;background-color: #f0f8ff;}#sk-container-id-8 div.sk-toggleable__content pre {margin: 0.2em;color: black;border-radius: 0.25em;background-color: #f0f8ff;}#sk-container-id-8 input.sk-toggleable__control:checked~div.sk-toggleable__content {max-height: 200px;max-width: 100%;overflow: auto;}#sk-container-id-8 input.sk-toggleable__control:checked~label.sk-toggleable__label-arrow:before {content: \"▾\";}#sk-container-id-8 div.sk-estimator input.sk-toggleable__control:checked~label.sk-toggleable__label {background-color: #d4ebff;}#sk-container-id-8 div.sk-label input.sk-toggleable__control:checked~label.sk-toggleable__label {background-color: #d4ebff;}#sk-container-id-8 input.sk-hidden--visually {border: 0;clip: rect(1px 1px 1px 1px);clip: rect(1px, 1px, 1px, 1px);height: 1px;margin: -1px;overflow: hidden;padding: 0;position: absolute;width: 1px;}#sk-container-id-8 div.sk-estimator {font-family: monospace;background-color: #f0f8ff;border: 1px dotted black;border-radius: 0.25em;box-sizing: border-box;margin-bottom: 0.5em;}#sk-container-id-8 div.sk-estimator:hover {background-color: #d4ebff;}#sk-container-id-8 div.sk-parallel-item::after {content: \"\";width: 100%;border-bottom: 1px solid gray;flex-grow: 1;}#sk-container-id-8 div.sk-label:hover label.sk-toggleable__label {background-color: #d4ebff;}#sk-container-id-8 div.sk-serial::before {content: \"\";position: absolute;border-left: 1px solid gray;box-sizing: border-box;top: 0;bottom: 0;left: 50%;z-index: 0;}#sk-container-id-8 div.sk-serial {display: flex;flex-direction: column;align-items: center;background-color: white;padding-right: 0.2em;padding-left: 0.2em;position: relative;}#sk-container-id-8 div.sk-item {position: relative;z-index: 1;}#sk-container-id-8 div.sk-parallel {display: flex;align-items: stretch;justify-content: center;background-color: white;position: relative;}#sk-container-id-8 div.sk-item::before, #sk-container-id-8 div.sk-parallel-item::before {content: \"\";position: absolute;border-left: 1px solid gray;box-sizing: border-box;top: 0;bottom: 0;left: 50%;z-index: -1;}#sk-container-id-8 div.sk-parallel-item {display: flex;flex-direction: column;z-index: 1;position: relative;background-color: white;}#sk-container-id-8 div.sk-parallel-item:first-child::after {align-self: flex-end;width: 50%;}#sk-container-id-8 div.sk-parallel-item:last-child::after {align-self: flex-start;width: 50%;}#sk-container-id-8 div.sk-parallel-item:only-child::after {width: 0;}#sk-container-id-8 div.sk-dashed-wrapped {border: 1px dashed gray;margin: 0 0.4em 0.5em 0.4em;box-sizing: border-box;padding-bottom: 0.4em;background-color: white;}#sk-container-id-8 div.sk-label label {font-family: monospace;font-weight: bold;display: inline-block;line-height: 1.2em;}#sk-container-id-8 div.sk-label-container {text-align: center;}#sk-container-id-8 div.sk-container {/* jupyter's `normalize.less` sets `[hidden] { display: none; }` but bootstrap.min.css set `[hidden] { display: none !important; }` so we also need the `!important` here to be able to override the default hidden behavior on the sphinx rendered scikit-learn.org. See: https://github.com/scikit-learn/scikit-learn/issues/21755 */display: inline-block !important;position: relative;}#sk-container-id-8 div.sk-text-repr-fallback {display: none;}</style><div id=\"sk-container-id-8\" class=\"sk-top-container\"><div class=\"sk-text-repr-fallback\"><pre>LogisticRegression(C=0.5, l1_ratio=0.5, max_iter=30, penalty=&#x27;elasticnet&#x27;,\n",
       "                   random_state=10, solver=&#x27;saga&#x27;)</pre><b>In a Jupyter environment, please rerun this cell to show the HTML representation or trust the notebook. <br />On GitHub, the HTML representation is unable to render, please try loading this page with nbviewer.org.</b></div><div class=\"sk-container\" hidden><div class=\"sk-item\"><div class=\"sk-estimator sk-toggleable\"><input class=\"sk-toggleable__control sk-hidden--visually\" id=\"sk-estimator-id-16\" type=\"checkbox\" checked><label for=\"sk-estimator-id-16\" class=\"sk-toggleable__label sk-toggleable__label-arrow\">LogisticRegression</label><div class=\"sk-toggleable__content\"><pre>LogisticRegression(C=0.5, l1_ratio=0.5, max_iter=30, penalty=&#x27;elasticnet&#x27;,\n",
       "                   random_state=10, solver=&#x27;saga&#x27;)</pre></div></div></div></div></div>"
      ],
      "text/plain": [
       "LogisticRegression(C=0.5, l1_ratio=0.5, max_iter=30, penalty='elasticnet',\n",
       "                   random_state=10, solver='saga')"
      ]
     },
     "execution_count": 50,
     "metadata": {},
     "output_type": "execute_result"
    }
   ],
   "source": [
    "final_model = gs.best_estimator_\n",
    "final_model"
   ]
  },
  {
   "cell_type": "markdown",
   "id": "ff9f06a5-807a-42b4-813f-640fe730a4d2",
   "metadata": {},
   "source": [
    "#### Model building using Grid search after parsing hyperparams."
   ]
  },
  {
   "cell_type": "code",
   "execution_count": 52,
   "id": "70d8bd6d-42d6-4fdb-82e9-68fb1824b8f3",
   "metadata": {},
   "outputs": [
    {
     "name": "stderr",
     "output_type": "stream",
     "text": [
      "C:\\Users\\RBI\\ana3\\Lib\\site-packages\\sklearn\\linear_model\\_sag.py:350: ConvergenceWarning: The max_iter was reached which means the coef_ did not converge\n",
      "  warnings.warn(\n"
     ]
    }
   ],
   "source": [
    "# Training the model\n",
    "model_DT = LogisticRegression(C=0.5, l1_ratio=0.5, max_iter=30, penalty='elasticnet',\n",
    "                   random_state=10, solver='saga')\n",
    "model_DT.fit(X_train, Y_train)\n",
    "y_pred = model_DT.predict(X_test)"
   ]
  },
  {
   "cell_type": "code",
   "execution_count": 53,
   "id": "2b823554-0657-4c81-9fab-b22fb234b100",
   "metadata": {},
   "outputs": [
    {
     "name": "stdout",
     "output_type": "stream",
     "text": [
      "[[10  0  0]\n",
      " [ 0 12  1]\n",
      " [ 0  0  7]]\n",
      "Classification report: \n",
      "              precision    recall  f1-score   support\n",
      "\n",
      "         0.0       1.00      1.00      1.00        10\n",
      "         1.0       1.00      0.92      0.96        13\n",
      "         2.0       0.88      1.00      0.93         7\n",
      "\n",
      "    accuracy                           0.97        30\n",
      "   macro avg       0.96      0.97      0.96        30\n",
      "weighted avg       0.97      0.97      0.97        30\n",
      "\n"
     ]
    }
   ],
   "source": [
    "from sklearn.metrics import confusion_matrix,classification_report\n",
    " \n",
    "cfm=confusion_matrix(Y_test,y_pred)\n",
    "print(cfm)\n",
    "\n",
    "print(\"Classification report: \") \n",
    "print(classification_report(Y_test,y_pred))"
   ]
  },
  {
   "cell_type": "markdown",
   "id": "ff02104b-6b6b-45ad-a0f8-2b4bd6255e98",
   "metadata": {},
   "source": [
    "The accuracy obtained by Random Forest is 97%."
   ]
  },
  {
   "cell_type": "markdown",
   "id": "fb1b7bef-061d-4821-b59e-76ff6334936e",
   "metadata": {},
   "source": [
    "## 4. SVM"
   ]
  },
  {
   "cell_type": "code",
   "execution_count": 64,
   "id": "9724d0c8-c5bb-4add-8dc3-4f72bdb4ab83",
   "metadata": {},
   "outputs": [],
   "source": [
    "from sklearn.svm import SVC"
   ]
  },
  {
   "cell_type": "code",
   "execution_count": 75,
   "id": "f65df10c-34f3-4459-a174-4c6c5c3cf87f",
   "metadata": {},
   "outputs": [],
   "source": [
    "params = {\n",
    "    'kernel':['linear','rbf','poly','sigmoid'],\n",
    "    'C':[566,79],\n",
    "    'gamma':['auto','scale','custom'],\n",
    "    'gamma':[1,0.1,0.01,0.001,0.0001],\n",
    "    'tol':[7],\n",
    "    'max_iter':[7],\n",
    "}\n",
    "model_svm=SVC()"
   ]
  },
  {
   "cell_type": "code",
   "execution_count": 76,
   "id": "c0307fbc-4319-4648-886a-79bd0f466f75",
   "metadata": {},
   "outputs": [
    {
     "data": {
      "text/html": [
       "<style>#sk-container-id-7 {color: black;background-color: white;}#sk-container-id-7 pre{padding: 0;}#sk-container-id-7 div.sk-toggleable {background-color: white;}#sk-container-id-7 label.sk-toggleable__label {cursor: pointer;display: block;width: 100%;margin-bottom: 0;padding: 0.3em;box-sizing: border-box;text-align: center;}#sk-container-id-7 label.sk-toggleable__label-arrow:before {content: \"▸\";float: left;margin-right: 0.25em;color: #696969;}#sk-container-id-7 label.sk-toggleable__label-arrow:hover:before {color: black;}#sk-container-id-7 div.sk-estimator:hover label.sk-toggleable__label-arrow:before {color: black;}#sk-container-id-7 div.sk-toggleable__content {max-height: 0;max-width: 0;overflow: hidden;text-align: left;background-color: #f0f8ff;}#sk-container-id-7 div.sk-toggleable__content pre {margin: 0.2em;color: black;border-radius: 0.25em;background-color: #f0f8ff;}#sk-container-id-7 input.sk-toggleable__control:checked~div.sk-toggleable__content {max-height: 200px;max-width: 100%;overflow: auto;}#sk-container-id-7 input.sk-toggleable__control:checked~label.sk-toggleable__label-arrow:before {content: \"▾\";}#sk-container-id-7 div.sk-estimator input.sk-toggleable__control:checked~label.sk-toggleable__label {background-color: #d4ebff;}#sk-container-id-7 div.sk-label input.sk-toggleable__control:checked~label.sk-toggleable__label {background-color: #d4ebff;}#sk-container-id-7 input.sk-hidden--visually {border: 0;clip: rect(1px 1px 1px 1px);clip: rect(1px, 1px, 1px, 1px);height: 1px;margin: -1px;overflow: hidden;padding: 0;position: absolute;width: 1px;}#sk-container-id-7 div.sk-estimator {font-family: monospace;background-color: #f0f8ff;border: 1px dotted black;border-radius: 0.25em;box-sizing: border-box;margin-bottom: 0.5em;}#sk-container-id-7 div.sk-estimator:hover {background-color: #d4ebff;}#sk-container-id-7 div.sk-parallel-item::after {content: \"\";width: 100%;border-bottom: 1px solid gray;flex-grow: 1;}#sk-container-id-7 div.sk-label:hover label.sk-toggleable__label {background-color: #d4ebff;}#sk-container-id-7 div.sk-serial::before {content: \"\";position: absolute;border-left: 1px solid gray;box-sizing: border-box;top: 0;bottom: 0;left: 50%;z-index: 0;}#sk-container-id-7 div.sk-serial {display: flex;flex-direction: column;align-items: center;background-color: white;padding-right: 0.2em;padding-left: 0.2em;position: relative;}#sk-container-id-7 div.sk-item {position: relative;z-index: 1;}#sk-container-id-7 div.sk-parallel {display: flex;align-items: stretch;justify-content: center;background-color: white;position: relative;}#sk-container-id-7 div.sk-item::before, #sk-container-id-7 div.sk-parallel-item::before {content: \"\";position: absolute;border-left: 1px solid gray;box-sizing: border-box;top: 0;bottom: 0;left: 50%;z-index: -1;}#sk-container-id-7 div.sk-parallel-item {display: flex;flex-direction: column;z-index: 1;position: relative;background-color: white;}#sk-container-id-7 div.sk-parallel-item:first-child::after {align-self: flex-end;width: 50%;}#sk-container-id-7 div.sk-parallel-item:last-child::after {align-self: flex-start;width: 50%;}#sk-container-id-7 div.sk-parallel-item:only-child::after {width: 0;}#sk-container-id-7 div.sk-dashed-wrapped {border: 1px dashed gray;margin: 0 0.4em 0.5em 0.4em;box-sizing: border-box;padding-bottom: 0.4em;background-color: white;}#sk-container-id-7 div.sk-label label {font-family: monospace;font-weight: bold;display: inline-block;line-height: 1.2em;}#sk-container-id-7 div.sk-label-container {text-align: center;}#sk-container-id-7 div.sk-container {/* jupyter's `normalize.less` sets `[hidden] { display: none; }` but bootstrap.min.css set `[hidden] { display: none !important; }` so we also need the `!important` here to be able to override the default hidden behavior on the sphinx rendered scikit-learn.org. See: https://github.com/scikit-learn/scikit-learn/issues/21755 */display: inline-block !important;position: relative;}#sk-container-id-7 div.sk-text-repr-fallback {display: none;}</style><div id=\"sk-container-id-7\" class=\"sk-top-container\"><div class=\"sk-text-repr-fallback\"><pre>GridSearchCV(cv=5, estimator=SVC(), n_jobs=-1,\n",
       "             param_grid={&#x27;C&#x27;: [566, 79], &#x27;gamma&#x27;: [1, 0.1, 0.01, 0.001, 0.0001],\n",
       "                         &#x27;kernel&#x27;: [&#x27;linear&#x27;, &#x27;rbf&#x27;, &#x27;poly&#x27;, &#x27;sigmoid&#x27;],\n",
       "                         &#x27;max_iter&#x27;: [7], &#x27;tol&#x27;: [7]})</pre><b>In a Jupyter environment, please rerun this cell to show the HTML representation or trust the notebook. <br />On GitHub, the HTML representation is unable to render, please try loading this page with nbviewer.org.</b></div><div class=\"sk-container\" hidden><div class=\"sk-item sk-dashed-wrapped\"><div class=\"sk-label-container\"><div class=\"sk-label sk-toggleable\"><input class=\"sk-toggleable__control sk-hidden--visually\" id=\"sk-estimator-id-17\" type=\"checkbox\" ><label for=\"sk-estimator-id-17\" class=\"sk-toggleable__label sk-toggleable__label-arrow\">GridSearchCV</label><div class=\"sk-toggleable__content\"><pre>GridSearchCV(cv=5, estimator=SVC(), n_jobs=-1,\n",
       "             param_grid={&#x27;C&#x27;: [566, 79], &#x27;gamma&#x27;: [1, 0.1, 0.01, 0.001, 0.0001],\n",
       "                         &#x27;kernel&#x27;: [&#x27;linear&#x27;, &#x27;rbf&#x27;, &#x27;poly&#x27;, &#x27;sigmoid&#x27;],\n",
       "                         &#x27;max_iter&#x27;: [7], &#x27;tol&#x27;: [7]})</pre></div></div></div><div class=\"sk-parallel\"><div class=\"sk-parallel-item\"><div class=\"sk-item\"><div class=\"sk-label-container\"><div class=\"sk-label sk-toggleable\"><input class=\"sk-toggleable__control sk-hidden--visually\" id=\"sk-estimator-id-18\" type=\"checkbox\" ><label for=\"sk-estimator-id-18\" class=\"sk-toggleable__label sk-toggleable__label-arrow\">estimator: SVC</label><div class=\"sk-toggleable__content\"><pre>SVC()</pre></div></div></div><div class=\"sk-serial\"><div class=\"sk-item\"><div class=\"sk-estimator sk-toggleable\"><input class=\"sk-toggleable__control sk-hidden--visually\" id=\"sk-estimator-id-19\" type=\"checkbox\" ><label for=\"sk-estimator-id-19\" class=\"sk-toggleable__label sk-toggleable__label-arrow\">SVC</label><div class=\"sk-toggleable__content\"><pre>SVC()</pre></div></div></div></div></div></div></div></div></div></div>"
      ],
      "text/plain": [
       "GridSearchCV(cv=5, estimator=SVC(), n_jobs=-1,\n",
       "             param_grid={'C': [566, 79], 'gamma': [1, 0.1, 0.01, 0.001, 0.0001],\n",
       "                         'kernel': ['linear', 'rbf', 'poly', 'sigmoid'],\n",
       "                         'max_iter': [7], 'tol': [7]})"
      ]
     },
     "execution_count": 76,
     "metadata": {},
     "output_type": "execute_result"
    }
   ],
   "source": [
    "# perfom Grid Search \n",
    "grid_search= GridSearchCV(estimator=model_svm,param_grid=params, cv=5, n_jobs=-1)\n",
    "grid_search.fit(X_train, Y_train)"
   ]
  },
  {
   "cell_type": "code",
   "execution_count": 77,
   "id": "40ba8637-174c-477f-83d1-55a5e491f81c",
   "metadata": {},
   "outputs": [
    {
     "data": {
      "text/html": [
       "<style>#sk-container-id-8 {color: black;background-color: white;}#sk-container-id-8 pre{padding: 0;}#sk-container-id-8 div.sk-toggleable {background-color: white;}#sk-container-id-8 label.sk-toggleable__label {cursor: pointer;display: block;width: 100%;margin-bottom: 0;padding: 0.3em;box-sizing: border-box;text-align: center;}#sk-container-id-8 label.sk-toggleable__label-arrow:before {content: \"▸\";float: left;margin-right: 0.25em;color: #696969;}#sk-container-id-8 label.sk-toggleable__label-arrow:hover:before {color: black;}#sk-container-id-8 div.sk-estimator:hover label.sk-toggleable__label-arrow:before {color: black;}#sk-container-id-8 div.sk-toggleable__content {max-height: 0;max-width: 0;overflow: hidden;text-align: left;background-color: #f0f8ff;}#sk-container-id-8 div.sk-toggleable__content pre {margin: 0.2em;color: black;border-radius: 0.25em;background-color: #f0f8ff;}#sk-container-id-8 input.sk-toggleable__control:checked~div.sk-toggleable__content {max-height: 200px;max-width: 100%;overflow: auto;}#sk-container-id-8 input.sk-toggleable__control:checked~label.sk-toggleable__label-arrow:before {content: \"▾\";}#sk-container-id-8 div.sk-estimator input.sk-toggleable__control:checked~label.sk-toggleable__label {background-color: #d4ebff;}#sk-container-id-8 div.sk-label input.sk-toggleable__control:checked~label.sk-toggleable__label {background-color: #d4ebff;}#sk-container-id-8 input.sk-hidden--visually {border: 0;clip: rect(1px 1px 1px 1px);clip: rect(1px, 1px, 1px, 1px);height: 1px;margin: -1px;overflow: hidden;padding: 0;position: absolute;width: 1px;}#sk-container-id-8 div.sk-estimator {font-family: monospace;background-color: #f0f8ff;border: 1px dotted black;border-radius: 0.25em;box-sizing: border-box;margin-bottom: 0.5em;}#sk-container-id-8 div.sk-estimator:hover {background-color: #d4ebff;}#sk-container-id-8 div.sk-parallel-item::after {content: \"\";width: 100%;border-bottom: 1px solid gray;flex-grow: 1;}#sk-container-id-8 div.sk-label:hover label.sk-toggleable__label {background-color: #d4ebff;}#sk-container-id-8 div.sk-serial::before {content: \"\";position: absolute;border-left: 1px solid gray;box-sizing: border-box;top: 0;bottom: 0;left: 50%;z-index: 0;}#sk-container-id-8 div.sk-serial {display: flex;flex-direction: column;align-items: center;background-color: white;padding-right: 0.2em;padding-left: 0.2em;position: relative;}#sk-container-id-8 div.sk-item {position: relative;z-index: 1;}#sk-container-id-8 div.sk-parallel {display: flex;align-items: stretch;justify-content: center;background-color: white;position: relative;}#sk-container-id-8 div.sk-item::before, #sk-container-id-8 div.sk-parallel-item::before {content: \"\";position: absolute;border-left: 1px solid gray;box-sizing: border-box;top: 0;bottom: 0;left: 50%;z-index: -1;}#sk-container-id-8 div.sk-parallel-item {display: flex;flex-direction: column;z-index: 1;position: relative;background-color: white;}#sk-container-id-8 div.sk-parallel-item:first-child::after {align-self: flex-end;width: 50%;}#sk-container-id-8 div.sk-parallel-item:last-child::after {align-self: flex-start;width: 50%;}#sk-container-id-8 div.sk-parallel-item:only-child::after {width: 0;}#sk-container-id-8 div.sk-dashed-wrapped {border: 1px dashed gray;margin: 0 0.4em 0.5em 0.4em;box-sizing: border-box;padding-bottom: 0.4em;background-color: white;}#sk-container-id-8 div.sk-label label {font-family: monospace;font-weight: bold;display: inline-block;line-height: 1.2em;}#sk-container-id-8 div.sk-label-container {text-align: center;}#sk-container-id-8 div.sk-container {/* jupyter's `normalize.less` sets `[hidden] { display: none; }` but bootstrap.min.css set `[hidden] { display: none !important; }` so we also need the `!important` here to be able to override the default hidden behavior on the sphinx rendered scikit-learn.org. See: https://github.com/scikit-learn/scikit-learn/issues/21755 */display: inline-block !important;position: relative;}#sk-container-id-8 div.sk-text-repr-fallback {display: none;}</style><div id=\"sk-container-id-8\" class=\"sk-top-container\"><div class=\"sk-text-repr-fallback\"><pre>SVC(C=566, gamma=1, kernel=&#x27;linear&#x27;, max_iter=7, tol=7)</pre><b>In a Jupyter environment, please rerun this cell to show the HTML representation or trust the notebook. <br />On GitHub, the HTML representation is unable to render, please try loading this page with nbviewer.org.</b></div><div class=\"sk-container\" hidden><div class=\"sk-item\"><div class=\"sk-estimator sk-toggleable\"><input class=\"sk-toggleable__control sk-hidden--visually\" id=\"sk-estimator-id-20\" type=\"checkbox\" checked><label for=\"sk-estimator-id-20\" class=\"sk-toggleable__label sk-toggleable__label-arrow\">SVC</label><div class=\"sk-toggleable__content\"><pre>SVC(C=566, gamma=1, kernel=&#x27;linear&#x27;, max_iter=7, tol=7)</pre></div></div></div></div></div>"
      ],
      "text/plain": [
       "SVC(C=566, gamma=1, kernel='linear', max_iter=7, tol=7)"
      ]
     },
     "execution_count": 77,
     "metadata": {},
     "output_type": "execute_result"
    }
   ],
   "source": [
    "final_model = grid_search.best_estimator_\n",
    "final_model"
   ]
  },
  {
   "cell_type": "markdown",
   "id": "79076c88-01d6-4873-bf9d-c2ed069ebd8d",
   "metadata": {},
   "source": [
    "#### Model building using Grid search after parsing hyperparams."
   ]
  },
  {
   "cell_type": "code",
   "execution_count": 82,
   "id": "c66676b4-37b0-415e-a663-1188f6b7c7c3",
   "metadata": {},
   "outputs": [],
   "source": [
    "# Training the model\n",
    "model_svm=SVC(C=566, gamma=1, kernel='linear', max_iter=7, tol=7)\n",
    "model_svm.fit(X_train, Y_train)\n",
    "y_pred = model_svm.predict(X_test)"
   ]
  },
  {
   "cell_type": "code",
   "execution_count": 87,
   "id": "b2dbb50a-34c6-4c02-9d79-4b79a4c46ec5",
   "metadata": {},
   "outputs": [
    {
     "name": "stdout",
     "output_type": "stream",
     "text": [
      "[[ 0  0 10]\n",
      " [ 0  0 13]\n",
      " [ 0  0  7]]\n",
      "Classification report:\n",
      "              precision    recall  f1-score   support\n",
      "\n",
      "         0.0       0.00      0.00      0.00        10\n",
      "         1.0       0.00      0.00      0.00        13\n",
      "         2.0       0.23      1.00      0.38         7\n",
      "\n",
      "    accuracy                           0.23        30\n",
      "   macro avg       0.08      0.33      0.13        30\n",
      "weighted avg       0.05      0.23      0.09        30\n",
      "\n"
     ]
    },
    {
     "name": "stderr",
     "output_type": "stream",
     "text": [
      "C:\\Users\\RBI\\ana3\\Lib\\site-packages\\sklearn\\metrics\\_classification.py:1344: UndefinedMetricWarning: Precision and F-score are ill-defined and being set to 0.0 in labels with no predicted samples. Use `zero_division` parameter to control this behavior.\n",
      "  _warn_prf(average, modifier, msg_start, len(result))\n",
      "C:\\Users\\RBI\\ana3\\Lib\\site-packages\\sklearn\\metrics\\_classification.py:1344: UndefinedMetricWarning: Precision and F-score are ill-defined and being set to 0.0 in labels with no predicted samples. Use `zero_division` parameter to control this behavior.\n",
      "  _warn_prf(average, modifier, msg_start, len(result))\n",
      "C:\\Users\\RBI\\ana3\\Lib\\site-packages\\sklearn\\metrics\\_classification.py:1344: UndefinedMetricWarning: Precision and F-score are ill-defined and being set to 0.0 in labels with no predicted samples. Use `zero_division` parameter to control this behavior.\n",
      "  _warn_prf(average, modifier, msg_start, len(result))\n"
     ]
    }
   ],
   "source": [
    "from sklearn.metrics import confusion_matrix,classification_report\n",
    "cfm=confusion_matrix(Y_test,y_pred)\n",
    "print(cfm)\n",
    "print('Classification report:')\n",
    "print(classification_report(Y_test,y_pred))"
   ]
  },
  {
   "cell_type": "markdown",
   "id": "956d2e07-29d1-4ac2-bf4f-dd52085fbb3d",
   "metadata": {},
   "source": [
    "The accuracy obtained for SVM is 23%."
   ]
  },
  {
   "cell_type": "markdown",
   "id": "05dc119a-6c7d-4d8f-ac73-d8377cc3c2b2",
   "metadata": {},
   "source": [
    "## 5. KNN"
   ]
  },
  {
   "cell_type": "code",
   "execution_count": 90,
   "id": "3a61b744-c86f-4490-9e36-e6eeb0fde7c4",
   "metadata": {},
   "outputs": [],
   "source": [
    "from sklearn.neighbors import KNeighborsClassifier"
   ]
  },
  {
   "cell_type": "code",
   "execution_count": 107,
   "id": "a193717f-e20c-4bd0-ba5b-a7fbc4168ba2",
   "metadata": {},
   "outputs": [],
   "source": [
    "params={\n",
    "    'n_neighbors':[78],\n",
    "    'weights':['distance'],\n",
    "     'algorithm':['auto'],\n",
    "}\n",
    "model_KNN= KNeighborsClassifier()"
   ]
  },
  {
   "cell_type": "code",
   "execution_count": 108,
   "id": "51754844-5275-4ec7-a09e-7cb4bbbdd7c1",
   "metadata": {},
   "outputs": [
    {
     "data": {
      "text/html": [
       "<style>#sk-container-id-10 {color: black;background-color: white;}#sk-container-id-10 pre{padding: 0;}#sk-container-id-10 div.sk-toggleable {background-color: white;}#sk-container-id-10 label.sk-toggleable__label {cursor: pointer;display: block;width: 100%;margin-bottom: 0;padding: 0.3em;box-sizing: border-box;text-align: center;}#sk-container-id-10 label.sk-toggleable__label-arrow:before {content: \"▸\";float: left;margin-right: 0.25em;color: #696969;}#sk-container-id-10 label.sk-toggleable__label-arrow:hover:before {color: black;}#sk-container-id-10 div.sk-estimator:hover label.sk-toggleable__label-arrow:before {color: black;}#sk-container-id-10 div.sk-toggleable__content {max-height: 0;max-width: 0;overflow: hidden;text-align: left;background-color: #f0f8ff;}#sk-container-id-10 div.sk-toggleable__content pre {margin: 0.2em;color: black;border-radius: 0.25em;background-color: #f0f8ff;}#sk-container-id-10 input.sk-toggleable__control:checked~div.sk-toggleable__content {max-height: 200px;max-width: 100%;overflow: auto;}#sk-container-id-10 input.sk-toggleable__control:checked~label.sk-toggleable__label-arrow:before {content: \"▾\";}#sk-container-id-10 div.sk-estimator input.sk-toggleable__control:checked~label.sk-toggleable__label {background-color: #d4ebff;}#sk-container-id-10 div.sk-label input.sk-toggleable__control:checked~label.sk-toggleable__label {background-color: #d4ebff;}#sk-container-id-10 input.sk-hidden--visually {border: 0;clip: rect(1px 1px 1px 1px);clip: rect(1px, 1px, 1px, 1px);height: 1px;margin: -1px;overflow: hidden;padding: 0;position: absolute;width: 1px;}#sk-container-id-10 div.sk-estimator {font-family: monospace;background-color: #f0f8ff;border: 1px dotted black;border-radius: 0.25em;box-sizing: border-box;margin-bottom: 0.5em;}#sk-container-id-10 div.sk-estimator:hover {background-color: #d4ebff;}#sk-container-id-10 div.sk-parallel-item::after {content: \"\";width: 100%;border-bottom: 1px solid gray;flex-grow: 1;}#sk-container-id-10 div.sk-label:hover label.sk-toggleable__label {background-color: #d4ebff;}#sk-container-id-10 div.sk-serial::before {content: \"\";position: absolute;border-left: 1px solid gray;box-sizing: border-box;top: 0;bottom: 0;left: 50%;z-index: 0;}#sk-container-id-10 div.sk-serial {display: flex;flex-direction: column;align-items: center;background-color: white;padding-right: 0.2em;padding-left: 0.2em;position: relative;}#sk-container-id-10 div.sk-item {position: relative;z-index: 1;}#sk-container-id-10 div.sk-parallel {display: flex;align-items: stretch;justify-content: center;background-color: white;position: relative;}#sk-container-id-10 div.sk-item::before, #sk-container-id-10 div.sk-parallel-item::before {content: \"\";position: absolute;border-left: 1px solid gray;box-sizing: border-box;top: 0;bottom: 0;left: 50%;z-index: -1;}#sk-container-id-10 div.sk-parallel-item {display: flex;flex-direction: column;z-index: 1;position: relative;background-color: white;}#sk-container-id-10 div.sk-parallel-item:first-child::after {align-self: flex-end;width: 50%;}#sk-container-id-10 div.sk-parallel-item:last-child::after {align-self: flex-start;width: 50%;}#sk-container-id-10 div.sk-parallel-item:only-child::after {width: 0;}#sk-container-id-10 div.sk-dashed-wrapped {border: 1px dashed gray;margin: 0 0.4em 0.5em 0.4em;box-sizing: border-box;padding-bottom: 0.4em;background-color: white;}#sk-container-id-10 div.sk-label label {font-family: monospace;font-weight: bold;display: inline-block;line-height: 1.2em;}#sk-container-id-10 div.sk-label-container {text-align: center;}#sk-container-id-10 div.sk-container {/* jupyter's `normalize.less` sets `[hidden] { display: none; }` but bootstrap.min.css set `[hidden] { display: none !important; }` so we also need the `!important` here to be able to override the default hidden behavior on the sphinx rendered scikit-learn.org. See: https://github.com/scikit-learn/scikit-learn/issues/21755 */display: inline-block !important;position: relative;}#sk-container-id-10 div.sk-text-repr-fallback {display: none;}</style><div id=\"sk-container-id-10\" class=\"sk-top-container\"><div class=\"sk-text-repr-fallback\"><pre>GridSearchCV(cv=5, estimator=KNeighborsClassifier(),\n",
       "             param_grid={&#x27;algorithm&#x27;: [&#x27;auto&#x27;], &#x27;n_neighbors&#x27;: [78],\n",
       "                         &#x27;weights&#x27;: [&#x27;distance&#x27;]})</pre><b>In a Jupyter environment, please rerun this cell to show the HTML representation or trust the notebook. <br />On GitHub, the HTML representation is unable to render, please try loading this page with nbviewer.org.</b></div><div class=\"sk-container\" hidden><div class=\"sk-item sk-dashed-wrapped\"><div class=\"sk-label-container\"><div class=\"sk-label sk-toggleable\"><input class=\"sk-toggleable__control sk-hidden--visually\" id=\"sk-estimator-id-24\" type=\"checkbox\" ><label for=\"sk-estimator-id-24\" class=\"sk-toggleable__label sk-toggleable__label-arrow\">GridSearchCV</label><div class=\"sk-toggleable__content\"><pre>GridSearchCV(cv=5, estimator=KNeighborsClassifier(),\n",
       "             param_grid={&#x27;algorithm&#x27;: [&#x27;auto&#x27;], &#x27;n_neighbors&#x27;: [78],\n",
       "                         &#x27;weights&#x27;: [&#x27;distance&#x27;]})</pre></div></div></div><div class=\"sk-parallel\"><div class=\"sk-parallel-item\"><div class=\"sk-item\"><div class=\"sk-label-container\"><div class=\"sk-label sk-toggleable\"><input class=\"sk-toggleable__control sk-hidden--visually\" id=\"sk-estimator-id-25\" type=\"checkbox\" ><label for=\"sk-estimator-id-25\" class=\"sk-toggleable__label sk-toggleable__label-arrow\">estimator: KNeighborsClassifier</label><div class=\"sk-toggleable__content\"><pre>KNeighborsClassifier()</pre></div></div></div><div class=\"sk-serial\"><div class=\"sk-item\"><div class=\"sk-estimator sk-toggleable\"><input class=\"sk-toggleable__control sk-hidden--visually\" id=\"sk-estimator-id-26\" type=\"checkbox\" ><label for=\"sk-estimator-id-26\" class=\"sk-toggleable__label sk-toggleable__label-arrow\">KNeighborsClassifier</label><div class=\"sk-toggleable__content\"><pre>KNeighborsClassifier()</pre></div></div></div></div></div></div></div></div></div></div>"
      ],
      "text/plain": [
       "GridSearchCV(cv=5, estimator=KNeighborsClassifier(),\n",
       "             param_grid={'algorithm': ['auto'], 'n_neighbors': [78],\n",
       "                         'weights': ['distance']})"
      ]
     },
     "execution_count": 108,
     "metadata": {},
     "output_type": "execute_result"
    }
   ],
   "source": [
    "gs = GridSearchCV(model_KNN, param_grid=params, cv=5)\n",
    "gs.fit(X_train, Y_train)"
   ]
  },
  {
   "cell_type": "code",
   "execution_count": 110,
   "id": "a53e22c6-c07b-4334-8b72-3641694d82a4",
   "metadata": {},
   "outputs": [
    {
     "data": {
      "text/html": [
       "<style>#sk-container-id-12 {color: black;background-color: white;}#sk-container-id-12 pre{padding: 0;}#sk-container-id-12 div.sk-toggleable {background-color: white;}#sk-container-id-12 label.sk-toggleable__label {cursor: pointer;display: block;width: 100%;margin-bottom: 0;padding: 0.3em;box-sizing: border-box;text-align: center;}#sk-container-id-12 label.sk-toggleable__label-arrow:before {content: \"▸\";float: left;margin-right: 0.25em;color: #696969;}#sk-container-id-12 label.sk-toggleable__label-arrow:hover:before {color: black;}#sk-container-id-12 div.sk-estimator:hover label.sk-toggleable__label-arrow:before {color: black;}#sk-container-id-12 div.sk-toggleable__content {max-height: 0;max-width: 0;overflow: hidden;text-align: left;background-color: #f0f8ff;}#sk-container-id-12 div.sk-toggleable__content pre {margin: 0.2em;color: black;border-radius: 0.25em;background-color: #f0f8ff;}#sk-container-id-12 input.sk-toggleable__control:checked~div.sk-toggleable__content {max-height: 200px;max-width: 100%;overflow: auto;}#sk-container-id-12 input.sk-toggleable__control:checked~label.sk-toggleable__label-arrow:before {content: \"▾\";}#sk-container-id-12 div.sk-estimator input.sk-toggleable__control:checked~label.sk-toggleable__label {background-color: #d4ebff;}#sk-container-id-12 div.sk-label input.sk-toggleable__control:checked~label.sk-toggleable__label {background-color: #d4ebff;}#sk-container-id-12 input.sk-hidden--visually {border: 0;clip: rect(1px 1px 1px 1px);clip: rect(1px, 1px, 1px, 1px);height: 1px;margin: -1px;overflow: hidden;padding: 0;position: absolute;width: 1px;}#sk-container-id-12 div.sk-estimator {font-family: monospace;background-color: #f0f8ff;border: 1px dotted black;border-radius: 0.25em;box-sizing: border-box;margin-bottom: 0.5em;}#sk-container-id-12 div.sk-estimator:hover {background-color: #d4ebff;}#sk-container-id-12 div.sk-parallel-item::after {content: \"\";width: 100%;border-bottom: 1px solid gray;flex-grow: 1;}#sk-container-id-12 div.sk-label:hover label.sk-toggleable__label {background-color: #d4ebff;}#sk-container-id-12 div.sk-serial::before {content: \"\";position: absolute;border-left: 1px solid gray;box-sizing: border-box;top: 0;bottom: 0;left: 50%;z-index: 0;}#sk-container-id-12 div.sk-serial {display: flex;flex-direction: column;align-items: center;background-color: white;padding-right: 0.2em;padding-left: 0.2em;position: relative;}#sk-container-id-12 div.sk-item {position: relative;z-index: 1;}#sk-container-id-12 div.sk-parallel {display: flex;align-items: stretch;justify-content: center;background-color: white;position: relative;}#sk-container-id-12 div.sk-item::before, #sk-container-id-12 div.sk-parallel-item::before {content: \"\";position: absolute;border-left: 1px solid gray;box-sizing: border-box;top: 0;bottom: 0;left: 50%;z-index: -1;}#sk-container-id-12 div.sk-parallel-item {display: flex;flex-direction: column;z-index: 1;position: relative;background-color: white;}#sk-container-id-12 div.sk-parallel-item:first-child::after {align-self: flex-end;width: 50%;}#sk-container-id-12 div.sk-parallel-item:last-child::after {align-self: flex-start;width: 50%;}#sk-container-id-12 div.sk-parallel-item:only-child::after {width: 0;}#sk-container-id-12 div.sk-dashed-wrapped {border: 1px dashed gray;margin: 0 0.4em 0.5em 0.4em;box-sizing: border-box;padding-bottom: 0.4em;background-color: white;}#sk-container-id-12 div.sk-label label {font-family: monospace;font-weight: bold;display: inline-block;line-height: 1.2em;}#sk-container-id-12 div.sk-label-container {text-align: center;}#sk-container-id-12 div.sk-container {/* jupyter's `normalize.less` sets `[hidden] { display: none; }` but bootstrap.min.css set `[hidden] { display: none !important; }` so we also need the `!important` here to be able to override the default hidden behavior on the sphinx rendered scikit-learn.org. See: https://github.com/scikit-learn/scikit-learn/issues/21755 */display: inline-block !important;position: relative;}#sk-container-id-12 div.sk-text-repr-fallback {display: none;}</style><div id=\"sk-container-id-12\" class=\"sk-top-container\"><div class=\"sk-text-repr-fallback\"><pre>KNeighborsClassifier(n_neighbors=78, weights=&#x27;distance&#x27;)</pre><b>In a Jupyter environment, please rerun this cell to show the HTML representation or trust the notebook. <br />On GitHub, the HTML representation is unable to render, please try loading this page with nbviewer.org.</b></div><div class=\"sk-container\" hidden><div class=\"sk-item\"><div class=\"sk-estimator sk-toggleable\"><input class=\"sk-toggleable__control sk-hidden--visually\" id=\"sk-estimator-id-28\" type=\"checkbox\" checked><label for=\"sk-estimator-id-28\" class=\"sk-toggleable__label sk-toggleable__label-arrow\">KNeighborsClassifier</label><div class=\"sk-toggleable__content\"><pre>KNeighborsClassifier(n_neighbors=78, weights=&#x27;distance&#x27;)</pre></div></div></div></div></div>"
      ],
      "text/plain": [
       "KNeighborsClassifier(n_neighbors=78, weights='distance')"
      ]
     },
     "execution_count": 110,
     "metadata": {},
     "output_type": "execute_result"
    }
   ],
   "source": [
    "final_model = gs.best_estimator_\n",
    "final_model"
   ]
  },
  {
   "cell_type": "markdown",
   "id": "5eae17fa-33cc-4438-bd16-41ab762fdd0f",
   "metadata": {},
   "source": [
    "#### Model building using Grid search after parsing hyperparams."
   ]
  },
  {
   "cell_type": "code",
   "execution_count": 112,
   "id": "424153b0-bd38-42dd-931e-aceb570bf738",
   "metadata": {},
   "outputs": [],
   "source": [
    "# Training the model\n",
    "gs= KNeighborsClassifier(algorithm='auto', n_neighbors=78, weights='distance')\n",
    "gs.fit(X_train, Y_train)\n",
    "y_pred = gs.predict(X_test)"
   ]
  },
  {
   "cell_type": "code",
   "execution_count": 113,
   "id": "44fe97e5-9fdb-4fcb-9bb0-4a91547b2ea0",
   "metadata": {},
   "outputs": [
    {
     "name": "stdout",
     "output_type": "stream",
     "text": [
      "[[10  0  0]\n",
      " [ 0 12  1]\n",
      " [ 0  0  7]]\n",
      "Classification report: \n",
      "              precision    recall  f1-score   support\n",
      "\n",
      "         0.0       1.00      1.00      1.00        10\n",
      "         1.0       1.00      0.92      0.96        13\n",
      "         2.0       0.88      1.00      0.93         7\n",
      "\n",
      "    accuracy                           0.97        30\n",
      "   macro avg       0.96      0.97      0.96        30\n",
      "weighted avg       0.97      0.97      0.97        30\n",
      "\n"
     ]
    }
   ],
   "source": [
    "from sklearn.metrics import confusion_matrix,classification_report\n",
    " \n",
    "cfm=confusion_matrix(Y_test,y_pred)\n",
    "print(cfm)\n",
    "\n",
    "print(\"Classification report: \") \n",
    "print(classification_report(Y_test,y_pred))"
   ]
  },
  {
   "cell_type": "markdown",
   "id": "d4ddb075-81d2-4e8b-9663-e7cb5993bd06",
   "metadata": {},
   "source": [
    "The accuracy obtained for KNN is 97%."
   ]
  },
  {
   "cell_type": "markdown",
   "id": "64c8df27-bef1-470e-a649-a6332e1ab8be",
   "metadata": {},
   "source": [
    "## 6. XG_Boost"
   ]
  },
  {
   "cell_type": "code",
   "execution_count": null,
   "id": "dab889aa-5cd0-46e6-b3a5-fe10b0ace8ae",
   "metadata": {},
   "outputs": [],
   "source": []
  },
  {
   "cell_type": "code",
   "execution_count": 28,
   "id": "30eaf7a9-2cb5-45ab-8968-2e6648c4e2d8",
   "metadata": {},
   "outputs": [
    {
     "name": "stdout",
     "output_type": "stream",
     "text": [
      "Collecting xgboost\n",
      "  Downloading xgboost-2.0.3-py3-none-win_amd64.whl.metadata (2.0 kB)\n",
      "Requirement already satisfied: numpy in c:\\users\\rbi\\ana3\\lib\\site-packages (from xgboost) (1.26.4)\n",
      "Requirement already satisfied: scipy in c:\\users\\rbi\\ana3\\lib\\site-packages (from xgboost) (1.11.4)\n",
      "Downloading xgboost-2.0.3-py3-none-win_amd64.whl (99.8 MB)\n",
      "   ---------------------------------------- 0.0/99.8 MB ? eta -:--:--\n",
      "   ---------------------------------------- 0.0/99.8 MB ? eta -:--:--\n",
      "   ---------------------------------------- 0.0/99.8 MB ? eta -:--:--\n",
      "   ---------------------------------------- 0.1/99.8 MB 550.5 kB/s eta 0:03:02\n",
      "   ---------------------------------------- 0.3/99.8 MB 2.2 MB/s eta 0:00:46\n",
      "   ---------------------------------------- 0.6/99.8 MB 3.1 MB/s eta 0:00:33\n",
      "   ---------------------------------------- 0.9/99.8 MB 3.7 MB/s eta 0:00:27\n",
      "   ---------------------------------------- 1.2/99.8 MB 4.2 MB/s eta 0:00:24\n",
      "    --------------------------------------- 1.5/99.8 MB 4.4 MB/s eta 0:00:23\n",
      "    --------------------------------------- 1.8/99.8 MB 4.6 MB/s eta 0:00:22\n",
      "    --------------------------------------- 2.0/99.8 MB 4.8 MB/s eta 0:00:21\n",
      "    --------------------------------------- 2.3/99.8 MB 4.9 MB/s eta 0:00:20\n",
      "   - -------------------------------------- 2.6/99.8 MB 5.0 MB/s eta 0:00:20\n",
      "   - -------------------------------------- 2.9/99.8 MB 5.1 MB/s eta 0:00:19\n",
      "   - -------------------------------------- 3.2/99.8 MB 5.2 MB/s eta 0:00:19\n",
      "   - -------------------------------------- 3.5/99.8 MB 5.3 MB/s eta 0:00:19\n",
      "   - -------------------------------------- 3.7/99.8 MB 5.3 MB/s eta 0:00:19\n",
      "   - -------------------------------------- 4.0/99.8 MB 5.4 MB/s eta 0:00:18\n",
      "   - -------------------------------------- 4.0/99.8 MB 5.4 MB/s eta 0:00:18\n",
      "   - -------------------------------------- 4.3/99.8 MB 5.1 MB/s eta 0:00:19\n",
      "   - -------------------------------------- 4.5/99.8 MB 5.1 MB/s eta 0:00:19\n",
      "   - -------------------------------------- 4.9/99.8 MB 5.2 MB/s eta 0:00:19\n",
      "   -- ------------------------------------- 5.1/99.8 MB 5.2 MB/s eta 0:00:19\n",
      "   -- ------------------------------------- 5.4/99.8 MB 5.3 MB/s eta 0:00:18\n",
      "   -- ------------------------------------- 5.7/99.8 MB 5.3 MB/s eta 0:00:18\n",
      "   -- ------------------------------------- 6.0/99.8 MB 5.3 MB/s eta 0:00:18\n",
      "   -- ------------------------------------- 6.2/99.8 MB 5.3 MB/s eta 0:00:18\n",
      "   -- ------------------------------------- 6.4/99.8 MB 5.3 MB/s eta 0:00:18\n",
      "   -- ------------------------------------- 6.8/99.8 MB 5.4 MB/s eta 0:00:18\n",
      "   -- ------------------------------------- 7.0/99.8 MB 5.3 MB/s eta 0:00:18\n",
      "   -- ------------------------------------- 7.2/99.8 MB 5.3 MB/s eta 0:00:18\n",
      "   -- ------------------------------------- 7.5/99.8 MB 5.4 MB/s eta 0:00:18\n",
      "   --- ------------------------------------ 7.8/99.8 MB 5.3 MB/s eta 0:00:18\n",
      "   --- ------------------------------------ 8.0/99.8 MB 5.3 MB/s eta 0:00:18\n",
      "   --- ------------------------------------ 8.3/99.8 MB 5.4 MB/s eta 0:00:17\n",
      "   --- ------------------------------------ 8.6/99.8 MB 5.4 MB/s eta 0:00:17\n",
      "   --- ------------------------------------ 8.9/99.8 MB 5.4 MB/s eta 0:00:17\n",
      "   --- ------------------------------------ 9.2/99.8 MB 5.4 MB/s eta 0:00:17\n",
      "   --- ------------------------------------ 9.5/99.8 MB 5.4 MB/s eta 0:00:17\n",
      "   --- ------------------------------------ 9.7/99.8 MB 5.4 MB/s eta 0:00:17\n",
      "   ---- ----------------------------------- 10.0/99.8 MB 5.5 MB/s eta 0:00:17\n",
      "   ---- ----------------------------------- 10.3/99.8 MB 5.7 MB/s eta 0:00:16\n",
      "   ---- ----------------------------------- 10.6/99.8 MB 5.7 MB/s eta 0:00:16\n",
      "   ---- ----------------------------------- 10.9/99.8 MB 5.8 MB/s eta 0:00:16\n",
      "   ---- ----------------------------------- 11.2/99.8 MB 5.8 MB/s eta 0:00:16\n",
      "   ---- ----------------------------------- 11.4/99.8 MB 5.7 MB/s eta 0:00:16\n",
      "   ---- ----------------------------------- 11.7/99.8 MB 5.8 MB/s eta 0:00:16\n",
      "   ---- ----------------------------------- 12.0/99.8 MB 5.7 MB/s eta 0:00:16\n",
      "   ---- ----------------------------------- 12.3/99.8 MB 5.7 MB/s eta 0:00:16\n",
      "   ---- ----------------------------------- 12.5/99.8 MB 5.7 MB/s eta 0:00:16\n",
      "   ----- ---------------------------------- 12.8/99.8 MB 5.7 MB/s eta 0:00:16\n",
      "   ----- ---------------------------------- 13.1/99.8 MB 5.7 MB/s eta 0:00:16\n",
      "   ----- ---------------------------------- 13.3/99.8 MB 5.7 MB/s eta 0:00:16\n",
      "   ----- ---------------------------------- 13.6/99.8 MB 5.7 MB/s eta 0:00:15\n",
      "   ----- ---------------------------------- 13.9/99.8 MB 5.7 MB/s eta 0:00:15\n",
      "   ----- ---------------------------------- 14.2/99.8 MB 5.7 MB/s eta 0:00:16\n",
      "   ----- ---------------------------------- 14.5/99.8 MB 5.8 MB/s eta 0:00:15\n",
      "   ----- ---------------------------------- 14.8/99.8 MB 5.9 MB/s eta 0:00:15\n",
      "   ----- ---------------------------------- 14.8/99.8 MB 5.9 MB/s eta 0:00:15\n",
      "   ------ --------------------------------- 15.1/99.8 MB 5.7 MB/s eta 0:00:15\n",
      "   ------ --------------------------------- 15.3/99.8 MB 5.7 MB/s eta 0:00:15\n",
      "   ------ --------------------------------- 15.6/99.8 MB 5.7 MB/s eta 0:00:15\n",
      "   ------ --------------------------------- 15.9/99.8 MB 5.7 MB/s eta 0:00:15\n",
      "   ------ --------------------------------- 16.1/99.8 MB 5.7 MB/s eta 0:00:15\n",
      "   ------ --------------------------------- 16.5/99.8 MB 5.7 MB/s eta 0:00:15\n",
      "   ------ --------------------------------- 16.7/99.8 MB 5.8 MB/s eta 0:00:15\n",
      "   ------ --------------------------------- 17.0/99.8 MB 5.8 MB/s eta 0:00:15\n",
      "   ------ --------------------------------- 17.3/99.8 MB 5.8 MB/s eta 0:00:15\n",
      "   ------- -------------------------------- 17.6/99.8 MB 5.8 MB/s eta 0:00:15\n",
      "   ------- -------------------------------- 17.9/99.8 MB 5.8 MB/s eta 0:00:15\n",
      "   ------- -------------------------------- 18.1/99.8 MB 5.9 MB/s eta 0:00:14\n",
      "   ------- -------------------------------- 18.5/99.8 MB 5.8 MB/s eta 0:00:14\n",
      "   ------- -------------------------------- 18.7/99.8 MB 5.8 MB/s eta 0:00:14\n",
      "   ------- -------------------------------- 18.9/99.8 MB 5.8 MB/s eta 0:00:14\n",
      "   ------- -------------------------------- 19.2/99.8 MB 5.9 MB/s eta 0:00:14\n",
      "   ------- -------------------------------- 19.6/99.8 MB 5.9 MB/s eta 0:00:14\n",
      "   ------- -------------------------------- 19.8/99.8 MB 5.9 MB/s eta 0:00:14\n",
      "   -------- ------------------------------- 20.1/99.8 MB 5.9 MB/s eta 0:00:14\n",
      "   -------- ------------------------------- 20.4/99.8 MB 5.9 MB/s eta 0:00:14\n",
      "   -------- ------------------------------- 20.7/99.8 MB 5.8 MB/s eta 0:00:14\n",
      "   -------- ------------------------------- 20.9/99.8 MB 5.8 MB/s eta 0:00:14\n",
      "   -------- ------------------------------- 21.2/99.8 MB 5.8 MB/s eta 0:00:14\n",
      "   -------- ------------------------------- 21.5/99.8 MB 5.8 MB/s eta 0:00:14\n",
      "   -------- ------------------------------- 21.8/99.8 MB 5.8 MB/s eta 0:00:14\n",
      "   -------- ------------------------------- 22.1/99.8 MB 5.8 MB/s eta 0:00:14\n",
      "   -------- ------------------------------- 22.4/99.8 MB 5.9 MB/s eta 0:00:14\n",
      "   --------- ------------------------------ 22.6/99.8 MB 5.9 MB/s eta 0:00:14\n",
      "   --------- ------------------------------ 22.8/99.8 MB 5.9 MB/s eta 0:00:14\n",
      "   --------- ------------------------------ 23.2/99.8 MB 5.9 MB/s eta 0:00:13\n",
      "   --------- ------------------------------ 23.5/99.8 MB 5.9 MB/s eta 0:00:13\n",
      "   --------- ------------------------------ 23.8/99.8 MB 5.9 MB/s eta 0:00:13\n",
      "   --------- ------------------------------ 24.0/99.8 MB 5.9 MB/s eta 0:00:13\n",
      "   --------- ------------------------------ 24.3/99.8 MB 5.9 MB/s eta 0:00:13\n",
      "   --------- ------------------------------ 24.6/99.8 MB 5.9 MB/s eta 0:00:13\n",
      "   --------- ------------------------------ 24.9/99.8 MB 5.9 MB/s eta 0:00:13\n",
      "   ---------- ----------------------------- 25.2/99.8 MB 6.0 MB/s eta 0:00:13\n",
      "   ---------- ----------------------------- 25.5/99.8 MB 6.1 MB/s eta 0:00:13\n",
      "   ---------- ----------------------------- 25.7/99.8 MB 6.1 MB/s eta 0:00:13\n",
      "   ---------- ----------------------------- 26.0/99.8 MB 6.1 MB/s eta 0:00:13\n",
      "   ---------- ----------------------------- 26.3/99.8 MB 6.1 MB/s eta 0:00:13\n",
      "   ---------- ----------------------------- 26.6/99.8 MB 6.1 MB/s eta 0:00:13\n",
      "   ---------- ----------------------------- 26.9/99.8 MB 6.1 MB/s eta 0:00:13\n",
      "   ---------- ----------------------------- 27.2/99.8 MB 6.1 MB/s eta 0:00:12\n",
      "   ----------- ---------------------------- 27.5/99.8 MB 6.1 MB/s eta 0:00:12\n",
      "   ----------- ---------------------------- 27.7/99.8 MB 6.1 MB/s eta 0:00:12\n",
      "   ----------- ---------------------------- 28.0/99.8 MB 6.1 MB/s eta 0:00:12\n",
      "   ----------- ---------------------------- 28.3/99.8 MB 6.1 MB/s eta 0:00:12\n",
      "   ----------- ---------------------------- 28.6/99.8 MB 6.0 MB/s eta 0:00:12\n",
      "   ----------- ---------------------------- 28.8/99.8 MB 6.1 MB/s eta 0:00:12\n",
      "   ----------- ---------------------------- 29.0/99.8 MB 6.0 MB/s eta 0:00:12\n",
      "   ----------- ---------------------------- 29.3/99.8 MB 6.1 MB/s eta 0:00:12\n",
      "   ----------- ---------------------------- 29.6/99.8 MB 6.0 MB/s eta 0:00:12\n",
      "   ------------ --------------------------- 29.9/99.8 MB 6.0 MB/s eta 0:00:12\n",
      "   ------------ --------------------------- 30.2/99.8 MB 6.0 MB/s eta 0:00:12\n",
      "   ------------ --------------------------- 30.5/99.8 MB 6.1 MB/s eta 0:00:12\n",
      "   ------------ --------------------------- 30.7/99.8 MB 6.1 MB/s eta 0:00:12\n",
      "   ------------ --------------------------- 31.0/99.8 MB 6.1 MB/s eta 0:00:12\n",
      "   ------------ --------------------------- 31.1/99.8 MB 6.0 MB/s eta 0:00:12\n",
      "   ------------ --------------------------- 31.5/99.8 MB 6.0 MB/s eta 0:00:12\n",
      "   ------------ --------------------------- 31.9/99.8 MB 6.1 MB/s eta 0:00:12\n",
      "   ------------ --------------------------- 32.0/99.8 MB 6.1 MB/s eta 0:00:12\n",
      "   ------------ --------------------------- 32.2/99.8 MB 6.0 MB/s eta 0:00:12\n",
      "   ------------- -------------------------- 32.6/99.8 MB 6.0 MB/s eta 0:00:12\n",
      "   ------------- -------------------------- 32.9/99.8 MB 6.0 MB/s eta 0:00:12\n",
      "   ------------- -------------------------- 33.1/99.8 MB 6.0 MB/s eta 0:00:12\n",
      "   ------------- -------------------------- 33.4/99.8 MB 6.0 MB/s eta 0:00:12\n",
      "   ------------- -------------------------- 33.7/99.8 MB 6.0 MB/s eta 0:00:12\n",
      "   ------------- -------------------------- 34.0/99.8 MB 6.0 MB/s eta 0:00:12\n",
      "   ------------- -------------------------- 34.3/99.8 MB 6.0 MB/s eta 0:00:11\n",
      "   ------------- -------------------------- 34.4/99.8 MB 5.9 MB/s eta 0:00:12\n",
      "   ------------- -------------------------- 34.7/99.8 MB 5.8 MB/s eta 0:00:12\n",
      "   -------------- ------------------------- 35.0/99.8 MB 5.8 MB/s eta 0:00:12\n",
      "   -------------- ------------------------- 35.3/99.8 MB 5.8 MB/s eta 0:00:12\n",
      "   -------------- ------------------------- 35.6/99.8 MB 5.8 MB/s eta 0:00:11\n",
      "   -------------- ------------------------- 35.8/99.8 MB 5.8 MB/s eta 0:00:11\n",
      "   -------------- ------------------------- 36.1/99.8 MB 5.8 MB/s eta 0:00:11\n",
      "   -------------- ------------------------- 36.4/99.8 MB 5.8 MB/s eta 0:00:11\n",
      "   -------------- ------------------------- 36.6/99.8 MB 5.8 MB/s eta 0:00:11\n",
      "   -------------- ------------------------- 36.9/99.8 MB 5.8 MB/s eta 0:00:11\n",
      "   -------------- ------------------------- 37.2/99.8 MB 5.8 MB/s eta 0:00:11\n",
      "   --------------- ------------------------ 37.4/99.8 MB 5.8 MB/s eta 0:00:11\n",
      "   --------------- ------------------------ 37.8/99.8 MB 5.9 MB/s eta 0:00:11\n",
      "   --------------- ------------------------ 38.0/99.8 MB 5.8 MB/s eta 0:00:11\n",
      "   --------------- ------------------------ 38.3/99.8 MB 5.8 MB/s eta 0:00:11\n",
      "   --------------- ------------------------ 38.6/99.8 MB 5.8 MB/s eta 0:00:11\n",
      "   --------------- ------------------------ 38.8/99.8 MB 5.8 MB/s eta 0:00:11\n",
      "   --------------- ------------------------ 39.1/99.8 MB 5.8 MB/s eta 0:00:11\n",
      "   --------------- ------------------------ 39.4/99.8 MB 5.8 MB/s eta 0:00:11\n",
      "   --------------- ------------------------ 39.7/99.8 MB 5.8 MB/s eta 0:00:11\n",
      "   ---------------- ----------------------- 40.0/99.8 MB 5.8 MB/s eta 0:00:11\n",
      "   ---------------- ----------------------- 40.2/99.8 MB 5.8 MB/s eta 0:00:11\n",
      "   ---------------- ----------------------- 40.5/99.8 MB 5.8 MB/s eta 0:00:11\n",
      "   ---------------- ----------------------- 40.8/99.8 MB 5.8 MB/s eta 0:00:11\n",
      "   ---------------- ----------------------- 41.1/99.8 MB 5.8 MB/s eta 0:00:11\n",
      "   ---------------- ----------------------- 41.4/99.8 MB 5.8 MB/s eta 0:00:10\n",
      "   ---------------- ----------------------- 41.7/99.8 MB 5.8 MB/s eta 0:00:10\n",
      "   ---------------- ----------------------- 42.0/99.8 MB 5.8 MB/s eta 0:00:10\n",
      "   ---------------- ----------------------- 42.2/99.8 MB 5.8 MB/s eta 0:00:10\n",
      "   ----------------- ---------------------- 42.5/99.8 MB 6.0 MB/s eta 0:00:10\n",
      "   ----------------- ---------------------- 42.7/99.8 MB 5.8 MB/s eta 0:00:10\n",
      "   ----------------- ---------------------- 43.0/99.8 MB 5.8 MB/s eta 0:00:10\n",
      "   ----------------- ---------------------- 43.3/99.8 MB 5.8 MB/s eta 0:00:10\n",
      "   ----------------- ---------------------- 43.6/99.8 MB 5.8 MB/s eta 0:00:10\n",
      "   ----------------- ---------------------- 43.8/99.8 MB 5.9 MB/s eta 0:00:10\n",
      "   ----------------- ---------------------- 44.1/99.8 MB 5.9 MB/s eta 0:00:10\n",
      "   ----------------- ---------------------- 44.4/99.8 MB 5.8 MB/s eta 0:00:10\n",
      "   ----------------- ---------------------- 44.7/99.8 MB 6.0 MB/s eta 0:00:10\n",
      "   ------------------ --------------------- 45.0/99.8 MB 6.0 MB/s eta 0:00:10\n",
      "   ------------------ --------------------- 45.3/99.8 MB 6.0 MB/s eta 0:00:10\n",
      "   ------------------ --------------------- 45.5/99.8 MB 6.0 MB/s eta 0:00:10\n",
      "   ------------------ --------------------- 45.7/99.8 MB 6.0 MB/s eta 0:00:10\n",
      "   ------------------ --------------------- 46.0/99.8 MB 5.8 MB/s eta 0:00:10\n",
      "   ------------------ --------------------- 46.2/99.8 MB 5.9 MB/s eta 0:00:10\n",
      "   ------------------ --------------------- 46.5/99.8 MB 5.8 MB/s eta 0:00:10\n",
      "   ------------------ --------------------- 46.8/99.8 MB 5.9 MB/s eta 0:00:09\n",
      "   ------------------ --------------------- 47.1/99.8 MB 6.0 MB/s eta 0:00:09\n",
      "   ------------------ --------------------- 47.4/99.8 MB 5.9 MB/s eta 0:00:09\n",
      "   ------------------- -------------------- 47.6/99.8 MB 5.8 MB/s eta 0:00:09\n",
      "   ------------------- -------------------- 47.9/99.8 MB 6.0 MB/s eta 0:00:09\n",
      "   ------------------- -------------------- 48.2/99.8 MB 6.0 MB/s eta 0:00:09\n",
      "   ------------------- -------------------- 48.5/99.8 MB 5.9 MB/s eta 0:00:09\n",
      "   ------------------- -------------------- 48.8/99.8 MB 5.8 MB/s eta 0:00:09\n",
      "   ------------------- -------------------- 49.0/99.8 MB 5.9 MB/s eta 0:00:09\n",
      "   ------------------- -------------------- 49.3/99.8 MB 6.0 MB/s eta 0:00:09\n",
      "   ------------------- -------------------- 49.6/99.8 MB 5.9 MB/s eta 0:00:09\n",
      "   -------------------- ------------------- 49.9/99.8 MB 5.9 MB/s eta 0:00:09\n",
      "   -------------------- ------------------- 50.2/99.8 MB 6.0 MB/s eta 0:00:09\n",
      "   -------------------- ------------------- 50.5/99.8 MB 6.0 MB/s eta 0:00:09\n",
      "   -------------------- ------------------- 50.7/99.8 MB 6.0 MB/s eta 0:00:09\n",
      "   -------------------- ------------------- 51.0/99.8 MB 6.0 MB/s eta 0:00:09\n",
      "   -------------------- ------------------- 51.3/99.8 MB 6.0 MB/s eta 0:00:09\n",
      "   -------------------- ------------------- 51.6/99.8 MB 6.0 MB/s eta 0:00:09\n",
      "   -------------------- ------------------- 51.9/99.8 MB 6.0 MB/s eta 0:00:09\n",
      "   -------------------- ------------------- 52.2/99.8 MB 6.0 MB/s eta 0:00:08\n",
      "   --------------------- ------------------ 52.5/99.8 MB 6.0 MB/s eta 0:00:08\n",
      "   --------------------- ------------------ 52.8/99.8 MB 6.0 MB/s eta 0:00:08\n",
      "   --------------------- ------------------ 53.0/99.8 MB 6.0 MB/s eta 0:00:08\n",
      "   --------------------- ------------------ 53.3/99.8 MB 6.0 MB/s eta 0:00:08\n",
      "   --------------------- ------------------ 53.6/99.8 MB 6.1 MB/s eta 0:00:08\n",
      "   --------------------- ------------------ 53.9/99.8 MB 6.0 MB/s eta 0:00:08\n",
      "   --------------------- ------------------ 54.2/99.8 MB 6.0 MB/s eta 0:00:08\n",
      "   --------------------- ------------------ 54.5/99.8 MB 6.0 MB/s eta 0:00:08\n",
      "   --------------------- ------------------ 54.8/99.8 MB 6.0 MB/s eta 0:00:08\n",
      "   ---------------------- ----------------- 55.1/99.8 MB 6.0 MB/s eta 0:00:08\n",
      "   ---------------------- ----------------- 55.3/99.8 MB 6.1 MB/s eta 0:00:08\n",
      "   ---------------------- ----------------- 55.6/99.8 MB 6.0 MB/s eta 0:00:08\n",
      "   ---------------------- ----------------- 55.9/99.8 MB 6.2 MB/s eta 0:00:08\n",
      "   ---------------------- ----------------- 56.2/99.8 MB 6.1 MB/s eta 0:00:08\n",
      "   ---------------------- ----------------- 56.5/99.8 MB 6.1 MB/s eta 0:00:08\n",
      "   ---------------------- ----------------- 56.7/99.8 MB 6.1 MB/s eta 0:00:08\n",
      "   ---------------------- ----------------- 57.0/99.8 MB 6.1 MB/s eta 0:00:08\n",
      "   ---------------------- ----------------- 57.3/99.8 MB 6.1 MB/s eta 0:00:08\n",
      "   ----------------------- ---------------- 57.6/99.8 MB 6.1 MB/s eta 0:00:07\n",
      "   ----------------------- ---------------- 57.9/99.8 MB 6.1 MB/s eta 0:00:07\n",
      "   ----------------------- ---------------- 58.1/99.8 MB 6.1 MB/s eta 0:00:07\n",
      "   ----------------------- ---------------- 58.4/99.8 MB 6.1 MB/s eta 0:00:07\n",
      "   ----------------------- ---------------- 58.7/99.8 MB 6.1 MB/s eta 0:00:07\n",
      "   ----------------------- ---------------- 59.0/99.8 MB 6.1 MB/s eta 0:00:07\n",
      "   ----------------------- ---------------- 59.3/99.8 MB 6.1 MB/s eta 0:00:07\n",
      "   ----------------------- ---------------- 59.6/99.8 MB 6.1 MB/s eta 0:00:07\n",
      "   ------------------------ --------------- 59.9/99.8 MB 6.1 MB/s eta 0:00:07\n",
      "   ------------------------ --------------- 60.2/99.8 MB 6.1 MB/s eta 0:00:07\n",
      "   ------------------------ --------------- 60.4/99.8 MB 6.1 MB/s eta 0:00:07\n",
      "   ------------------------ --------------- 60.7/99.8 MB 6.1 MB/s eta 0:00:07\n",
      "   ------------------------ --------------- 60.9/99.8 MB 6.1 MB/s eta 0:00:07\n",
      "   ------------------------ --------------- 61.2/99.8 MB 6.1 MB/s eta 0:00:07\n",
      "   ------------------------ --------------- 61.5/99.8 MB 6.1 MB/s eta 0:00:07\n",
      "   ------------------------ --------------- 61.8/99.8 MB 6.1 MB/s eta 0:00:07\n",
      "   ------------------------ --------------- 62.1/99.8 MB 6.1 MB/s eta 0:00:07\n",
      "   ------------------------- -------------- 62.4/99.8 MB 6.1 MB/s eta 0:00:07\n",
      "   ------------------------- -------------- 62.6/99.8 MB 6.1 MB/s eta 0:00:07\n",
      "   ------------------------- -------------- 62.8/99.8 MB 6.1 MB/s eta 0:00:07\n",
      "   ------------------------- -------------- 63.2/99.8 MB 6.1 MB/s eta 0:00:07\n",
      "   ------------------------- -------------- 63.5/99.8 MB 6.1 MB/s eta 0:00:06\n",
      "   ------------------------- -------------- 63.8/99.8 MB 6.1 MB/s eta 0:00:06\n",
      "   ------------------------- -------------- 64.1/99.8 MB 6.1 MB/s eta 0:00:06\n",
      "   ------------------------- -------------- 64.4/99.8 MB 6.1 MB/s eta 0:00:06\n",
      "   ------------------------- -------------- 64.7/99.8 MB 6.1 MB/s eta 0:00:06\n",
      "   -------------------------- ------------- 64.9/99.8 MB 6.1 MB/s eta 0:00:06\n",
      "   -------------------------- ------------- 65.2/99.8 MB 6.1 MB/s eta 0:00:06\n",
      "   -------------------------- ------------- 65.5/99.8 MB 6.1 MB/s eta 0:00:06\n",
      "   -------------------------- ------------- 65.7/99.8 MB 6.0 MB/s eta 0:00:06\n",
      "   -------------------------- ------------- 66.1/99.8 MB 6.1 MB/s eta 0:00:06\n",
      "   -------------------------- ------------- 66.3/99.8 MB 6.1 MB/s eta 0:00:06\n",
      "   -------------------------- ------------- 66.6/99.8 MB 6.1 MB/s eta 0:00:06\n",
      "   -------------------------- ------------- 66.9/99.8 MB 6.1 MB/s eta 0:00:06\n",
      "   -------------------------- ------------- 67.2/99.8 MB 6.1 MB/s eta 0:00:06\n",
      "   --------------------------- ------------ 67.4/99.8 MB 6.1 MB/s eta 0:00:06\n",
      "   --------------------------- ------------ 67.7/99.8 MB 6.1 MB/s eta 0:00:06\n",
      "   --------------------------- ------------ 68.0/99.8 MB 6.1 MB/s eta 0:00:06\n",
      "   --------------------------- ------------ 68.3/99.8 MB 6.1 MB/s eta 0:00:06\n",
      "   --------------------------- ------------ 68.6/99.8 MB 6.1 MB/s eta 0:00:06\n",
      "   --------------------------- ------------ 68.9/99.8 MB 6.0 MB/s eta 0:00:06\n",
      "   --------------------------- ------------ 69.2/99.8 MB 6.1 MB/s eta 0:00:06\n",
      "   --------------------------- ------------ 69.4/99.8 MB 6.1 MB/s eta 0:00:06\n",
      "   --------------------------- ------------ 69.8/99.8 MB 6.1 MB/s eta 0:00:05\n",
      "   ---------------------------- ----------- 70.0/99.8 MB 6.1 MB/s eta 0:00:05\n",
      "   ---------------------------- ----------- 70.3/99.8 MB 6.0 MB/s eta 0:00:05\n",
      "   ---------------------------- ----------- 70.6/99.8 MB 6.1 MB/s eta 0:00:05\n",
      "   ---------------------------- ----------- 70.9/99.8 MB 6.0 MB/s eta 0:00:05\n",
      "   ---------------------------- ----------- 71.1/99.8 MB 6.1 MB/s eta 0:00:05\n",
      "   ---------------------------- ----------- 71.4/99.8 MB 6.1 MB/s eta 0:00:05\n",
      "   ---------------------------- ----------- 71.7/99.8 MB 6.1 MB/s eta 0:00:05\n",
      "   ---------------------------- ----------- 72.0/99.8 MB 6.1 MB/s eta 0:00:05\n",
      "   ---------------------------- ----------- 72.3/99.8 MB 6.1 MB/s eta 0:00:05\n",
      "   ----------------------------- ---------- 72.5/99.8 MB 6.1 MB/s eta 0:00:05\n",
      "   ----------------------------- ---------- 72.8/99.8 MB 6.1 MB/s eta 0:00:05\n",
      "   ----------------------------- ---------- 73.0/99.8 MB 6.0 MB/s eta 0:00:05\n",
      "   ----------------------------- ---------- 73.3/99.8 MB 6.0 MB/s eta 0:00:05\n",
      "   ----------------------------- ---------- 73.4/99.8 MB 5.9 MB/s eta 0:00:05\n",
      "   ----------------------------- ---------- 73.7/99.8 MB 5.9 MB/s eta 0:00:05\n",
      "   ----------------------------- ---------- 73.9/99.8 MB 5.9 MB/s eta 0:00:05\n",
      "   ----------------------------- ---------- 74.2/99.8 MB 5.8 MB/s eta 0:00:05\n",
      "   ----------------------------- ---------- 74.5/99.8 MB 5.8 MB/s eta 0:00:05\n",
      "   ----------------------------- ---------- 74.7/99.8 MB 5.8 MB/s eta 0:00:05\n",
      "   ------------------------------ --------- 75.0/99.8 MB 5.9 MB/s eta 0:00:05\n",
      "   ------------------------------ --------- 75.3/99.8 MB 5.8 MB/s eta 0:00:05\n",
      "   ------------------------------ --------- 75.6/99.8 MB 5.9 MB/s eta 0:00:05\n",
      "   ------------------------------ --------- 75.9/99.8 MB 5.9 MB/s eta 0:00:05\n",
      "   ------------------------------ --------- 76.2/99.8 MB 5.9 MB/s eta 0:00:04\n",
      "   ------------------------------ --------- 76.5/99.8 MB 5.8 MB/s eta 0:00:04\n",
      "   ------------------------------ --------- 76.7/99.8 MB 5.8 MB/s eta 0:00:04\n",
      "   ------------------------------ --------- 77.0/99.8 MB 5.8 MB/s eta 0:00:04\n",
      "   ------------------------------ --------- 77.1/99.8 MB 5.9 MB/s eta 0:00:04\n",
      "   ------------------------------- -------- 77.4/99.8 MB 5.9 MB/s eta 0:00:04\n",
      "   ------------------------------- -------- 77.8/99.8 MB 5.8 MB/s eta 0:00:04\n",
      "   ------------------------------- -------- 78.0/99.8 MB 5.8 MB/s eta 0:00:04\n",
      "   ------------------------------- -------- 78.2/99.8 MB 5.8 MB/s eta 0:00:04\n",
      "   ------------------------------- -------- 78.6/99.8 MB 5.8 MB/s eta 0:00:04\n",
      "   ------------------------------- -------- 78.9/99.8 MB 5.8 MB/s eta 0:00:04\n",
      "   ------------------------------- -------- 79.2/99.8 MB 5.8 MB/s eta 0:00:04\n",
      "   ------------------------------- -------- 79.5/99.8 MB 5.8 MB/s eta 0:00:04\n",
      "   ------------------------------- -------- 79.6/99.8 MB 5.8 MB/s eta 0:00:04\n",
      "   -------------------------------- ------- 80.0/99.8 MB 5.8 MB/s eta 0:00:04\n",
      "   -------------------------------- ------- 80.3/99.8 MB 5.8 MB/s eta 0:00:04\n",
      "   -------------------------------- ------- 80.5/99.8 MB 5.8 MB/s eta 0:00:04\n",
      "   -------------------------------- ------- 80.5/99.8 MB 5.8 MB/s eta 0:00:04\n",
      "   -------------------------------- ------- 80.5/99.8 MB 5.8 MB/s eta 0:00:04\n",
      "   -------------------------------- ------- 80.7/99.8 MB 5.5 MB/s eta 0:00:04\n",
      "   -------------------------------- ------- 81.0/99.8 MB 5.4 MB/s eta 0:00:04\n",
      "   -------------------------------- ------- 81.2/99.8 MB 5.5 MB/s eta 0:00:04\n",
      "   -------------------------------- ------- 81.5/99.8 MB 5.5 MB/s eta 0:00:04\n",
      "   -------------------------------- ------- 81.8/99.8 MB 5.5 MB/s eta 0:00:04\n",
      "   -------------------------------- ------- 82.1/99.8 MB 5.5 MB/s eta 0:00:04\n",
      "   --------------------------------- ------ 82.4/99.8 MB 5.5 MB/s eta 0:00:04\n",
      "   --------------------------------- ------ 82.7/99.8 MB 5.5 MB/s eta 0:00:04\n",
      "   --------------------------------- ------ 83.0/99.8 MB 5.5 MB/s eta 0:00:04\n",
      "   --------------------------------- ------ 83.2/99.8 MB 5.5 MB/s eta 0:00:04\n",
      "   --------------------------------- ------ 83.5/99.8 MB 5.5 MB/s eta 0:00:03\n",
      "   --------------------------------- ------ 83.8/99.8 MB 5.5 MB/s eta 0:00:03\n",
      "   --------------------------------- ------ 84.1/99.8 MB 5.6 MB/s eta 0:00:03\n",
      "   --------------------------------- ------ 84.4/99.8 MB 5.6 MB/s eta 0:00:03\n",
      "   --------------------------------- ------ 84.7/99.8 MB 5.6 MB/s eta 0:00:03\n",
      "   ---------------------------------- ----- 84.9/99.8 MB 5.6 MB/s eta 0:00:03\n",
      "   ---------------------------------- ----- 85.2/99.8 MB 5.6 MB/s eta 0:00:03\n",
      "   ---------------------------------- ----- 85.5/99.8 MB 5.6 MB/s eta 0:00:03\n",
      "   ---------------------------------- ----- 85.8/99.8 MB 5.6 MB/s eta 0:00:03\n",
      "   ---------------------------------- ----- 86.1/99.8 MB 5.6 MB/s eta 0:00:03\n",
      "   ---------------------------------- ----- 86.4/99.8 MB 5.6 MB/s eta 0:00:03\n",
      "   ---------------------------------- ----- 86.5/99.8 MB 5.6 MB/s eta 0:00:03\n",
      "   ---------------------------------- ----- 86.9/99.8 MB 5.6 MB/s eta 0:00:03\n",
      "   ---------------------------------- ----- 87.2/99.8 MB 5.6 MB/s eta 0:00:03\n",
      "   ----------------------------------- ---- 87.4/99.8 MB 5.7 MB/s eta 0:00:03\n",
      "   ----------------------------------- ---- 87.7/99.8 MB 5.6 MB/s eta 0:00:03\n",
      "   ----------------------------------- ---- 87.9/99.8 MB 5.7 MB/s eta 0:00:03\n",
      "   ----------------------------------- ---- 88.3/99.8 MB 5.7 MB/s eta 0:00:03\n",
      "   ----------------------------------- ---- 88.6/99.8 MB 5.7 MB/s eta 0:00:02\n",
      "   ----------------------------------- ---- 88.9/99.8 MB 5.7 MB/s eta 0:00:02\n",
      "   ----------------------------------- ---- 89.2/99.8 MB 5.6 MB/s eta 0:00:02\n",
      "   ----------------------------------- ---- 89.4/99.8 MB 5.7 MB/s eta 0:00:02\n",
      "   ----------------------------------- ---- 89.7/99.8 MB 5.6 MB/s eta 0:00:02\n",
      "   ------------------------------------ --- 90.0/99.8 MB 5.7 MB/s eta 0:00:02\n",
      "   ------------------------------------ --- 90.3/99.8 MB 5.6 MB/s eta 0:00:02\n",
      "   ------------------------------------ --- 90.6/99.8 MB 5.6 MB/s eta 0:00:02\n",
      "   ------------------------------------ --- 90.9/99.8 MB 6.0 MB/s eta 0:00:02\n",
      "   ------------------------------------ --- 91.2/99.8 MB 6.1 MB/s eta 0:00:02\n",
      "   ------------------------------------ --- 91.4/99.8 MB 6.1 MB/s eta 0:00:02\n",
      "   ------------------------------------ --- 91.7/99.8 MB 6.1 MB/s eta 0:00:02\n",
      "   ------------------------------------ --- 92.0/99.8 MB 6.1 MB/s eta 0:00:02\n",
      "   ------------------------------------- -- 92.3/99.8 MB 6.1 MB/s eta 0:00:02\n",
      "   ------------------------------------- -- 92.6/99.8 MB 6.1 MB/s eta 0:00:02\n",
      "   ------------------------------------- -- 92.9/99.8 MB 6.1 MB/s eta 0:00:02\n",
      "   ------------------------------------- -- 93.2/99.8 MB 6.1 MB/s eta 0:00:02\n",
      "   ------------------------------------- -- 93.5/99.8 MB 6.1 MB/s eta 0:00:02\n",
      "   ------------------------------------- -- 93.7/99.8 MB 6.1 MB/s eta 0:00:01\n",
      "   ------------------------------------- -- 94.0/99.8 MB 6.1 MB/s eta 0:00:01\n",
      "   ------------------------------------- -- 94.3/99.8 MB 6.1 MB/s eta 0:00:01\n",
      "   ------------------------------------- -- 94.6/99.8 MB 6.1 MB/s eta 0:00:01\n",
      "   -------------------------------------- - 94.9/99.8 MB 6.1 MB/s eta 0:00:01\n",
      "   -------------------------------------- - 95.2/99.8 MB 6.1 MB/s eta 0:00:01\n",
      "   -------------------------------------- - 95.5/99.8 MB 6.1 MB/s eta 0:00:01\n",
      "   -------------------------------------- - 95.8/99.8 MB 6.1 MB/s eta 0:00:01\n",
      "   -------------------------------------- - 96.1/99.8 MB 6.1 MB/s eta 0:00:01\n",
      "   -------------------------------------- - 96.3/99.8 MB 6.1 MB/s eta 0:00:01\n",
      "   -------------------------------------- - 96.6/99.8 MB 6.1 MB/s eta 0:00:01\n",
      "   -------------------------------------- - 96.9/99.8 MB 6.2 MB/s eta 0:00:01\n",
      "   -------------------------------------- - 97.2/99.8 MB 6.1 MB/s eta 0:00:01\n",
      "   ---------------------------------------  97.4/99.8 MB 6.1 MB/s eta 0:00:01\n",
      "   ---------------------------------------  97.7/99.8 MB 6.1 MB/s eta 0:00:01\n",
      "   ---------------------------------------  98.0/99.8 MB 6.1 MB/s eta 0:00:01\n",
      "   ---------------------------------------  98.3/99.8 MB 6.1 MB/s eta 0:00:01\n",
      "   ---------------------------------------  98.6/99.8 MB 6.1 MB/s eta 0:00:01\n",
      "   ---------------------------------------  98.8/99.8 MB 6.1 MB/s eta 0:00:01\n",
      "   ---------------------------------------  99.1/99.8 MB 6.1 MB/s eta 0:00:01\n",
      "   ---------------------------------------  99.4/99.8 MB 6.1 MB/s eta 0:00:01\n",
      "   ---------------------------------------  99.7/99.8 MB 6.1 MB/s eta 0:00:01\n",
      "   ---------------------------------------  99.7/99.8 MB 6.1 MB/s eta 0:00:01\n",
      "   ---------------------------------------  99.7/99.8 MB 6.1 MB/s eta 0:00:01\n",
      "   ---------------------------------------  99.7/99.8 MB 6.1 MB/s eta 0:00:01\n",
      "   ---------------------------------------  99.7/99.8 MB 6.1 MB/s eta 0:00:01\n",
      "   ---------------------------------------  99.7/99.8 MB 6.1 MB/s eta 0:00:01\n",
      "   ---------------------------------------  99.7/99.8 MB 6.1 MB/s eta 0:00:01\n",
      "   ---------------------------------------  99.7/99.8 MB 6.1 MB/s eta 0:00:01\n",
      "   ---------------------------------------  99.7/99.8 MB 6.1 MB/s eta 0:00:01\n",
      "   ---------------------------------------  99.7/99.8 MB 6.1 MB/s eta 0:00:01\n",
      "   ---------------------------------------  99.7/99.8 MB 6.1 MB/s eta 0:00:01\n",
      "   ---------------------------------------  99.7/99.8 MB 6.1 MB/s eta 0:00:01\n",
      "   ---------------------------------------  99.7/99.8 MB 6.1 MB/s eta 0:00:01\n",
      "   ---------------------------------------  99.7/99.8 MB 6.1 MB/s eta 0:00:01\n",
      "   ---------------------------------------  99.7/99.8 MB 6.1 MB/s eta 0:00:01\n",
      "   ---------------------------------------  99.7/99.8 MB 6.1 MB/s eta 0:00:01\n",
      "   ---------------------------------------  99.7/99.8 MB 6.1 MB/s eta 0:00:01\n",
      "   ---------------------------------------  99.7/99.8 MB 6.1 MB/s eta 0:00:01\n",
      "   ---------------------------------------- 99.8/99.8 MB 4.1 MB/s eta 0:00:00\n",
      "Installing collected packages: xgboost\n",
      "Successfully installed xgboost-2.0.3\n"
     ]
    }
   ],
   "source": [
    "#!pip install xgboost"
   ]
  },
  {
   "cell_type": "code",
   "execution_count": 29,
   "id": "1dcabb0f-96ba-4e56-9878-856fc3e82888",
   "metadata": {},
   "outputs": [],
   "source": [
    "from xgboost import XGBClassifier\n",
    "from sklearn.model_selection import StratifiedKFold, GridSearchCV\n"
   ]
  },
  {
   "cell_type": "code",
   "execution_count": 36,
   "id": "b78588c5-23fd-4205-9122-54bafd847f91",
   "metadata": {},
   "outputs": [],
   "source": [
    "param_grid = {\n",
    "    'use_gradient_boosted_tree': [True],\n",
    "    'dart': [True],\n",
    "    'max_depth': [56, 89],\n",
    "    'learning_rate': [0.89, 0.76],\n",
    "    'reg_alpha': [77],\n",
    "    'reg_lambda': [78],\n",
    "    'gamma': [68],\n",
    "    'min_child_weight': [67],\n",
    "    'subsample': [0.67],\n",
    "    'colsample_bytree': [0.67],\n",
    "    'early_stopping_rounds': [2]  # Include early_stopping_rounds parameter\n",
    "}"
   ]
  },
  {
   "cell_type": "code",
   "execution_count": 37,
   "id": "58bda857-ca29-4ca5-bb6f-3790e180f36e",
   "metadata": {},
   "outputs": [],
   "source": [
    "xgb_model = XGBClassifier(random_state=0, objective='binary:logistic', eval_metric='logloss')\n"
   ]
  },
  {
   "cell_type": "code",
   "execution_count": 38,
   "id": "e944d0ee-0562-40e9-a43f-f1505019d29a",
   "metadata": {},
   "outputs": [],
   "source": [
    "# Create StratifiedKFold\n",
    "cv = StratifiedKFold(n_splits=5, shuffle=True, random_state=0)"
   ]
  },
  {
   "cell_type": "code",
   "execution_count": 39,
   "id": "bb5fa54e-ebd8-4d7b-95a6-09da77e4a65b",
   "metadata": {},
   "outputs": [
    {
     "ename": "ValueError",
     "evalue": "\nAll the 20 fits failed.\nIt is very likely that your model is misconfigured.\nYou can try to debug the error by setting error_score='raise'.\n\nBelow are more details about the failures:\n--------------------------------------------------------------------------------\n20 fits failed with the following error:\nTraceback (most recent call last):\n  File \"C:\\Users\\RBI\\ana3\\Lib\\site-packages\\sklearn\\model_selection\\_validation.py\", line 686, in _fit_and_score\n    estimator.fit(X_train, y_train, **fit_params)\n  File \"C:\\Users\\RBI\\ana3\\Lib\\site-packages\\xgboost\\core.py\", line 730, in inner_f\n    return func(**kwargs)\n           ^^^^^^^^^^^^^^\n  File \"C:\\Users\\RBI\\ana3\\Lib\\site-packages\\xgboost\\sklearn.py\", line 1519, in fit\n    self._Booster = train(\n                    ^^^^^^\n  File \"C:\\Users\\RBI\\ana3\\Lib\\site-packages\\xgboost\\core.py\", line 730, in inner_f\n    return func(**kwargs)\n           ^^^^^^^^^^^^^^\n  File \"C:\\Users\\RBI\\ana3\\Lib\\site-packages\\xgboost\\training.py\", line 182, in train\n    if cb_container.after_iteration(bst, i, dtrain, evals):\n       ^^^^^^^^^^^^^^^^^^^^^^^^^^^^^^^^^^^^^^^^^^^^^^^^^^^\n  File \"C:\\Users\\RBI\\ana3\\Lib\\site-packages\\xgboost\\callback.py\", line 241, in after_iteration\n    ret = any(c.after_iteration(model, epoch, self.history) for c in self.callbacks)\n          ^^^^^^^^^^^^^^^^^^^^^^^^^^^^^^^^^^^^^^^^^^^^^^^^^^^^^^^^^^^^^^^^^^^^^^^^^^\n  File \"C:\\Users\\RBI\\ana3\\Lib\\site-packages\\xgboost\\callback.py\", line 241, in <genexpr>\n    ret = any(c.after_iteration(model, epoch, self.history) for c in self.callbacks)\n              ^^^^^^^^^^^^^^^^^^^^^^^^^^^^^^^^^^^^^^^^^^^^^\n  File \"C:\\Users\\RBI\\ana3\\Lib\\site-packages\\xgboost\\callback.py\", line 426, in after_iteration\n    raise ValueError(msg)\nValueError: Must have at least 1 validation dataset for early stopping.\n",
     "output_type": "error",
     "traceback": [
      "\u001b[1;31m---------------------------------------------------------------------------\u001b[0m",
      "\u001b[1;31mValueError\u001b[0m                                Traceback (most recent call last)",
      "Cell \u001b[1;32mIn[39], line 3\u001b[0m\n\u001b[0;32m      1\u001b[0m \u001b[38;5;66;03m# Perform GridSearchCV\u001b[39;00m\n\u001b[0;32m      2\u001b[0m grid_search \u001b[38;5;241m=\u001b[39m GridSearchCV(estimator\u001b[38;5;241m=\u001b[39mxgb_model, param_grid\u001b[38;5;241m=\u001b[39mparam_grid, cv\u001b[38;5;241m=\u001b[39mcv, scoring\u001b[38;5;241m=\u001b[39m\u001b[38;5;124m'\u001b[39m\u001b[38;5;124maccuracy\u001b[39m\u001b[38;5;124m'\u001b[39m, n_jobs\u001b[38;5;241m=\u001b[39m\u001b[38;5;241m-\u001b[39m\u001b[38;5;241m1\u001b[39m)\n\u001b[1;32m----> 3\u001b[0m grid_result \u001b[38;5;241m=\u001b[39m grid_search\u001b[38;5;241m.\u001b[39mfit(X_train, Y_train)\n",
      "File \u001b[1;32m~\\ana3\\Lib\\site-packages\\sklearn\\model_selection\\_search.py:874\u001b[0m, in \u001b[0;36mBaseSearchCV.fit\u001b[1;34m(self, X, y, groups, **fit_params)\u001b[0m\n\u001b[0;32m    868\u001b[0m     results \u001b[38;5;241m=\u001b[39m \u001b[38;5;28mself\u001b[39m\u001b[38;5;241m.\u001b[39m_format_results(\n\u001b[0;32m    869\u001b[0m         all_candidate_params, n_splits, all_out, all_more_results\n\u001b[0;32m    870\u001b[0m     )\n\u001b[0;32m    872\u001b[0m     \u001b[38;5;28;01mreturn\u001b[39;00m results\n\u001b[1;32m--> 874\u001b[0m \u001b[38;5;28mself\u001b[39m\u001b[38;5;241m.\u001b[39m_run_search(evaluate_candidates)\n\u001b[0;32m    876\u001b[0m \u001b[38;5;66;03m# multimetric is determined here because in the case of a callable\u001b[39;00m\n\u001b[0;32m    877\u001b[0m \u001b[38;5;66;03m# self.scoring the return type is only known after calling\u001b[39;00m\n\u001b[0;32m    878\u001b[0m first_test_score \u001b[38;5;241m=\u001b[39m all_out[\u001b[38;5;241m0\u001b[39m][\u001b[38;5;124m\"\u001b[39m\u001b[38;5;124mtest_scores\u001b[39m\u001b[38;5;124m\"\u001b[39m]\n",
      "File \u001b[1;32m~\\ana3\\Lib\\site-packages\\sklearn\\model_selection\\_search.py:1388\u001b[0m, in \u001b[0;36mGridSearchCV._run_search\u001b[1;34m(self, evaluate_candidates)\u001b[0m\n\u001b[0;32m   1386\u001b[0m \u001b[38;5;28;01mdef\u001b[39;00m \u001b[38;5;21m_run_search\u001b[39m(\u001b[38;5;28mself\u001b[39m, evaluate_candidates):\n\u001b[0;32m   1387\u001b[0m \u001b[38;5;250m    \u001b[39m\u001b[38;5;124;03m\"\"\"Search all candidates in param_grid\"\"\"\u001b[39;00m\n\u001b[1;32m-> 1388\u001b[0m     evaluate_candidates(ParameterGrid(\u001b[38;5;28mself\u001b[39m\u001b[38;5;241m.\u001b[39mparam_grid))\n",
      "File \u001b[1;32m~\\ana3\\Lib\\site-packages\\sklearn\\model_selection\\_search.py:851\u001b[0m, in \u001b[0;36mBaseSearchCV.fit.<locals>.evaluate_candidates\u001b[1;34m(candidate_params, cv, more_results)\u001b[0m\n\u001b[0;32m    844\u001b[0m \u001b[38;5;28;01melif\u001b[39;00m \u001b[38;5;28mlen\u001b[39m(out) \u001b[38;5;241m!=\u001b[39m n_candidates \u001b[38;5;241m*\u001b[39m n_splits:\n\u001b[0;32m    845\u001b[0m     \u001b[38;5;28;01mraise\u001b[39;00m \u001b[38;5;167;01mValueError\u001b[39;00m(\n\u001b[0;32m    846\u001b[0m         \u001b[38;5;124m\"\u001b[39m\u001b[38;5;124mcv.split and cv.get_n_splits returned \u001b[39m\u001b[38;5;124m\"\u001b[39m\n\u001b[0;32m    847\u001b[0m         \u001b[38;5;124m\"\u001b[39m\u001b[38;5;124minconsistent results. Expected \u001b[39m\u001b[38;5;132;01m{}\u001b[39;00m\u001b[38;5;124m \u001b[39m\u001b[38;5;124m\"\u001b[39m\n\u001b[0;32m    848\u001b[0m         \u001b[38;5;124m\"\u001b[39m\u001b[38;5;124msplits, got \u001b[39m\u001b[38;5;132;01m{}\u001b[39;00m\u001b[38;5;124m\"\u001b[39m\u001b[38;5;241m.\u001b[39mformat(n_splits, \u001b[38;5;28mlen\u001b[39m(out) \u001b[38;5;241m/\u001b[39m\u001b[38;5;241m/\u001b[39m n_candidates)\n\u001b[0;32m    849\u001b[0m     )\n\u001b[1;32m--> 851\u001b[0m _warn_or_raise_about_fit_failures(out, \u001b[38;5;28mself\u001b[39m\u001b[38;5;241m.\u001b[39merror_score)\n\u001b[0;32m    853\u001b[0m \u001b[38;5;66;03m# For callable self.scoring, the return type is only know after\u001b[39;00m\n\u001b[0;32m    854\u001b[0m \u001b[38;5;66;03m# calling. If the return type is a dictionary, the error scores\u001b[39;00m\n\u001b[0;32m    855\u001b[0m \u001b[38;5;66;03m# can now be inserted with the correct key. The type checking\u001b[39;00m\n\u001b[0;32m    856\u001b[0m \u001b[38;5;66;03m# of out will be done in `_insert_error_scores`.\u001b[39;00m\n\u001b[0;32m    857\u001b[0m \u001b[38;5;28;01mif\u001b[39;00m \u001b[38;5;28mcallable\u001b[39m(\u001b[38;5;28mself\u001b[39m\u001b[38;5;241m.\u001b[39mscoring):\n",
      "File \u001b[1;32m~\\ana3\\Lib\\site-packages\\sklearn\\model_selection\\_validation.py:367\u001b[0m, in \u001b[0;36m_warn_or_raise_about_fit_failures\u001b[1;34m(results, error_score)\u001b[0m\n\u001b[0;32m    360\u001b[0m \u001b[38;5;28;01mif\u001b[39;00m num_failed_fits \u001b[38;5;241m==\u001b[39m num_fits:\n\u001b[0;32m    361\u001b[0m     all_fits_failed_message \u001b[38;5;241m=\u001b[39m (\n\u001b[0;32m    362\u001b[0m         \u001b[38;5;124mf\u001b[39m\u001b[38;5;124m\"\u001b[39m\u001b[38;5;130;01m\\n\u001b[39;00m\u001b[38;5;124mAll the \u001b[39m\u001b[38;5;132;01m{\u001b[39;00mnum_fits\u001b[38;5;132;01m}\u001b[39;00m\u001b[38;5;124m fits failed.\u001b[39m\u001b[38;5;130;01m\\n\u001b[39;00m\u001b[38;5;124m\"\u001b[39m\n\u001b[0;32m    363\u001b[0m         \u001b[38;5;124m\"\u001b[39m\u001b[38;5;124mIt is very likely that your model is misconfigured.\u001b[39m\u001b[38;5;130;01m\\n\u001b[39;00m\u001b[38;5;124m\"\u001b[39m\n\u001b[0;32m    364\u001b[0m         \u001b[38;5;124m\"\u001b[39m\u001b[38;5;124mYou can try to debug the error by setting error_score=\u001b[39m\u001b[38;5;124m'\u001b[39m\u001b[38;5;124mraise\u001b[39m\u001b[38;5;124m'\u001b[39m\u001b[38;5;124m.\u001b[39m\u001b[38;5;130;01m\\n\u001b[39;00m\u001b[38;5;130;01m\\n\u001b[39;00m\u001b[38;5;124m\"\u001b[39m\n\u001b[0;32m    365\u001b[0m         \u001b[38;5;124mf\u001b[39m\u001b[38;5;124m\"\u001b[39m\u001b[38;5;124mBelow are more details about the failures:\u001b[39m\u001b[38;5;130;01m\\n\u001b[39;00m\u001b[38;5;132;01m{\u001b[39;00mfit_errors_summary\u001b[38;5;132;01m}\u001b[39;00m\u001b[38;5;124m\"\u001b[39m\n\u001b[0;32m    366\u001b[0m     )\n\u001b[1;32m--> 367\u001b[0m     \u001b[38;5;28;01mraise\u001b[39;00m \u001b[38;5;167;01mValueError\u001b[39;00m(all_fits_failed_message)\n\u001b[0;32m    369\u001b[0m \u001b[38;5;28;01melse\u001b[39;00m:\n\u001b[0;32m    370\u001b[0m     some_fits_failed_message \u001b[38;5;241m=\u001b[39m (\n\u001b[0;32m    371\u001b[0m         \u001b[38;5;124mf\u001b[39m\u001b[38;5;124m\"\u001b[39m\u001b[38;5;130;01m\\n\u001b[39;00m\u001b[38;5;132;01m{\u001b[39;00mnum_failed_fits\u001b[38;5;132;01m}\u001b[39;00m\u001b[38;5;124m fits failed out of a total of \u001b[39m\u001b[38;5;132;01m{\u001b[39;00mnum_fits\u001b[38;5;132;01m}\u001b[39;00m\u001b[38;5;124m.\u001b[39m\u001b[38;5;130;01m\\n\u001b[39;00m\u001b[38;5;124m\"\u001b[39m\n\u001b[0;32m    372\u001b[0m         \u001b[38;5;124m\"\u001b[39m\u001b[38;5;124mThe score on these train-test partitions for these parameters\u001b[39m\u001b[38;5;124m\"\u001b[39m\n\u001b[1;32m   (...)\u001b[0m\n\u001b[0;32m    376\u001b[0m         \u001b[38;5;124mf\u001b[39m\u001b[38;5;124m\"\u001b[39m\u001b[38;5;124mBelow are more details about the failures:\u001b[39m\u001b[38;5;130;01m\\n\u001b[39;00m\u001b[38;5;132;01m{\u001b[39;00mfit_errors_summary\u001b[38;5;132;01m}\u001b[39;00m\u001b[38;5;124m\"\u001b[39m\n\u001b[0;32m    377\u001b[0m     )\n",
      "\u001b[1;31mValueError\u001b[0m: \nAll the 20 fits failed.\nIt is very likely that your model is misconfigured.\nYou can try to debug the error by setting error_score='raise'.\n\nBelow are more details about the failures:\n--------------------------------------------------------------------------------\n20 fits failed with the following error:\nTraceback (most recent call last):\n  File \"C:\\Users\\RBI\\ana3\\Lib\\site-packages\\sklearn\\model_selection\\_validation.py\", line 686, in _fit_and_score\n    estimator.fit(X_train, y_train, **fit_params)\n  File \"C:\\Users\\RBI\\ana3\\Lib\\site-packages\\xgboost\\core.py\", line 730, in inner_f\n    return func(**kwargs)\n           ^^^^^^^^^^^^^^\n  File \"C:\\Users\\RBI\\ana3\\Lib\\site-packages\\xgboost\\sklearn.py\", line 1519, in fit\n    self._Booster = train(\n                    ^^^^^^\n  File \"C:\\Users\\RBI\\ana3\\Lib\\site-packages\\xgboost\\core.py\", line 730, in inner_f\n    return func(**kwargs)\n           ^^^^^^^^^^^^^^\n  File \"C:\\Users\\RBI\\ana3\\Lib\\site-packages\\xgboost\\training.py\", line 182, in train\n    if cb_container.after_iteration(bst, i, dtrain, evals):\n       ^^^^^^^^^^^^^^^^^^^^^^^^^^^^^^^^^^^^^^^^^^^^^^^^^^^\n  File \"C:\\Users\\RBI\\ana3\\Lib\\site-packages\\xgboost\\callback.py\", line 241, in after_iteration\n    ret = any(c.after_iteration(model, epoch, self.history) for c in self.callbacks)\n          ^^^^^^^^^^^^^^^^^^^^^^^^^^^^^^^^^^^^^^^^^^^^^^^^^^^^^^^^^^^^^^^^^^^^^^^^^^\n  File \"C:\\Users\\RBI\\ana3\\Lib\\site-packages\\xgboost\\callback.py\", line 241, in <genexpr>\n    ret = any(c.after_iteration(model, epoch, self.history) for c in self.callbacks)\n              ^^^^^^^^^^^^^^^^^^^^^^^^^^^^^^^^^^^^^^^^^^^^^\n  File \"C:\\Users\\RBI\\ana3\\Lib\\site-packages\\xgboost\\callback.py\", line 426, in after_iteration\n    raise ValueError(msg)\nValueError: Must have at least 1 validation dataset for early stopping.\n"
     ]
    }
   ],
   "source": [
    "# Perform GridSearchCV\n",
    "grid_search = GridSearchCV(estimator=xgb_model, param_grid=param_grid, cv=cv, scoring='accuracy', n_jobs=-1)\n",
    "grid_result = grid_search.fit(X_train, Y_train)"
   ]
  },
  {
   "cell_type": "code",
   "execution_count": 40,
   "id": "4065d671-686b-4324-b9d8-c5b8cc515511",
   "metadata": {},
   "outputs": [
    {
     "ename": "NameError",
     "evalue": "name 'grid_result' is not defined",
     "output_type": "error",
     "traceback": [
      "\u001b[1;31m---------------------------------------------------------------------------\u001b[0m",
      "\u001b[1;31mNameError\u001b[0m                                 Traceback (most recent call last)",
      "Cell \u001b[1;32mIn[40], line 1\u001b[0m\n\u001b[1;32m----> 1\u001b[0m \u001b[38;5;28mprint\u001b[39m(\u001b[38;5;124m\"\u001b[39m\u001b[38;5;124mBest parameters found: \u001b[39m\u001b[38;5;124m\"\u001b[39m, grid_result\u001b[38;5;241m.\u001b[39mbest_params_)\n",
      "\u001b[1;31mNameError\u001b[0m: name 'grid_result' is not defined"
     ]
    }
   ],
   "source": [
    "print(\"Best parameters found: \", grid_result.best_params_)"
   ]
  },
  {
   "cell_type": "code",
   "execution_count": null,
   "id": "41cbb95a-0bae-4e3f-bcb0-830fbafffd69",
   "metadata": {},
   "outputs": [],
   "source": []
  },
  {
   "cell_type": "code",
   "execution_count": null,
   "id": "356d5c80-6b6d-47b3-b537-172e09dfd210",
   "metadata": {},
   "outputs": [],
   "source": []
  },
  {
   "cell_type": "markdown",
   "id": "ad350a79-7ab0-4fa4-b75c-ca280a93c556",
   "metadata": {},
   "source": [
    "## Conclusion "
   ]
  },
  {
   "cell_type": "markdown",
   "id": "07fbb01c-049c-4472-8f3f-52351acacdb5",
   "metadata": {},
   "source": [
    "* Random Forest  accuracy = 93%\n",
    "* Decision Tree  accuracy = 93%\n",
    "* Logistic Regression  accuracy = 97%\n",
    "* SVM  accuracy = 23%\n",
    "* KNN   accuracy = 97%\n",
    "\n",
    "K-Nearest Neighbour and Logistic Regression give the best accuracy of 97%."
   ]
  },
  {
   "cell_type": "code",
   "execution_count": null,
   "id": "dc63a8f3-990e-4044-a87c-576cdd92567f",
   "metadata": {},
   "outputs": [],
   "source": []
  }
 ],
 "metadata": {
  "kernelspec": {
   "display_name": "Python 3 (ipykernel)",
   "language": "python",
   "name": "python3"
  },
  "language_info": {
   "codemirror_mode": {
    "name": "ipython",
    "version": 3
   },
   "file_extension": ".py",
   "mimetype": "text/x-python",
   "name": "python",
   "nbconvert_exporter": "python",
   "pygments_lexer": "ipython3",
   "version": "3.11.7"
  }
 },
 "nbformat": 4,
 "nbformat_minor": 5
}
